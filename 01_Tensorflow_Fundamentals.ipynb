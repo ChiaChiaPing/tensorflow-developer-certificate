{
  "nbformat": 4,
  "nbformat_minor": 0,
  "metadata": {
    "colab": {
      "provenance": [],
      "collapsed_sections": [
        "qGdRS-783BSR",
        "gkOIrBRW3YXA",
        "rRJTdknV6Ita",
        "jnhYhS7v9-e1"
      ],
      "toc_visible": true
    },
    "kernelspec": {
      "name": "python3",
      "display_name": "Python 3"
    },
    "language_info": {
      "name": "python"
    },
    "accelerator": "GPU"
  },
  "cells": [
    {
      "cell_type": "code",
      "source": [
        "import tensorflow as tf\n",
        "import numpy as np\n",
        "print(tf.__version__)"
      ],
      "metadata": {
        "colab": {
          "base_uri": "https://localhost:8080/"
        },
        "id": "4w67TRNt2hAW",
        "outputId": "ebef09db-ffc5-4dfd-f00b-06c39ed77cb9"
      },
      "execution_count": null,
      "outputs": [
        {
          "output_type": "stream",
          "name": "stdout",
          "text": [
            "2.8.2\n"
          ]
        }
      ]
    },
    {
      "cell_type": "markdown",
      "source": [
        "## 2022.06.09 - Tensorflow Fundamental 1"
      ],
      "metadata": {
        "id": "bag0lRfoCPhE"
      }
    },
    {
      "cell_type": "markdown",
      "source": [
        "### Tensorflow Constant\n",
        "- scalar: 0 ndim\n",
        "- vector\n",
        "- matrix:\n",
        "- tensor"
      ],
      "metadata": {
        "id": "qYUWZmT82eBF"
      }
    },
    {
      "cell_type": "code",
      "source": [
        "scalar = tf.constant(3)\n",
        "print(scalar)\n",
        "print(scalar.ndim)"
      ],
      "metadata": {
        "colab": {
          "base_uri": "https://localhost:8080/"
        },
        "id": "hR6OZSPV2jwP",
        "outputId": "5691b560-139e-4fce-ef20-76f291330c4e"
      },
      "execution_count": null,
      "outputs": [
        {
          "output_type": "stream",
          "name": "stdout",
          "text": [
            "tf.Tensor(3, shape=(), dtype=int32)\n",
            "0\n"
          ]
        }
      ]
    },
    {
      "cell_type": "code",
      "source": [
        "vector = tf.constant([10,10],dtype=tf.dtypes.int32)\n",
        "print(vector.ndim)\n",
        "print(vector)"
      ],
      "metadata": {
        "colab": {
          "base_uri": "https://localhost:8080/"
        },
        "id": "5kEsi9Wo2xlV",
        "outputId": "1a9589fd-9d26-4cba-98d1-4cdef781dc4a"
      },
      "execution_count": null,
      "outputs": [
        {
          "output_type": "stream",
          "name": "stdout",
          "text": [
            "1\n",
            "tf.Tensor([10 10], shape=(2,), dtype=int32)\n"
          ]
        }
      ]
    },
    {
      "cell_type": "code",
      "source": [
        "matrix = tf.constant([[10,7],\n",
        "                      [7,10]],dtype=tf.dtypes.float16)\n",
        "print(matrix)\n",
        "print(matrix.ndim)"
      ],
      "metadata": {
        "colab": {
          "base_uri": "https://localhost:8080/"
        },
        "id": "orIbVAOg2zD0",
        "outputId": "efdb5ade-7014-4b7f-f57f-f8f1f014a5e4"
      },
      "execution_count": null,
      "outputs": [
        {
          "output_type": "stream",
          "name": "stdout",
          "text": [
            "tf.Tensor(\n",
            "[[10.  7.]\n",
            " [ 7. 10.]], shape=(2, 2), dtype=float16)\n",
            "2\n"
          ]
        }
      ]
    },
    {
      "cell_type": "code",
      "source": [
        "tensor = tf.constant([[[10,10,10],\n",
        "                               [7,6,6]],      \n",
        "                              [[10,10,10],\n",
        "                               [7,6,6]]])\n",
        "print(tensor)\n",
        "print(tensor.ndim)"
      ],
      "metadata": {
        "colab": {
          "base_uri": "https://localhost:8080/"
        },
        "id": "QZFUAOqD208I",
        "outputId": "5d9e3795-071d-419b-b8da-bfd69b8de718"
      },
      "execution_count": null,
      "outputs": [
        {
          "output_type": "stream",
          "name": "stdout",
          "text": [
            "tf.Tensor(\n",
            "[[[10 10 10]\n",
            "  [ 7  6  6]]\n",
            "\n",
            " [[10 10 10]\n",
            "  [ 7  6  6]]], shape=(2, 2, 3), dtype=int32)\n",
            "3\n"
          ]
        }
      ]
    },
    {
      "cell_type": "code",
      "source": [
        "tensor[0,0,0] = 2\n",
        "tensor[0,0,0].assign(2)"
      ],
      "metadata": {
        "colab": {
          "base_uri": "https://localhost:8080/",
          "height": 191
        },
        "id": "q8HoDHMo22kk",
        "outputId": "798bad4d-3039-4d83-8325-e87ca1afb6b0"
      },
      "execution_count": null,
      "outputs": [
        {
          "output_type": "error",
          "ename": "TypeError",
          "evalue": "ignored",
          "traceback": [
            "\u001b[0;31m---------------------------------------------------------------------------\u001b[0m",
            "\u001b[0;31mTypeError\u001b[0m                                 Traceback (most recent call last)",
            "\u001b[0;32m<ipython-input-65-ec75ba791460>\u001b[0m in \u001b[0;36m<module>\u001b[0;34m()\u001b[0m\n\u001b[0;32m----> 1\u001b[0;31m \u001b[0mtensor\u001b[0m\u001b[0;34m[\u001b[0m\u001b[0;36m0\u001b[0m\u001b[0;34m,\u001b[0m\u001b[0;36m0\u001b[0m\u001b[0;34m,\u001b[0m\u001b[0;36m0\u001b[0m\u001b[0;34m]\u001b[0m \u001b[0;34m=\u001b[0m \u001b[0;36m2\u001b[0m\u001b[0;34m\u001b[0m\u001b[0;34m\u001b[0m\u001b[0m\n\u001b[0m\u001b[1;32m      2\u001b[0m \u001b[0mtensor\u001b[0m\u001b[0;34m[\u001b[0m\u001b[0;36m0\u001b[0m\u001b[0;34m,\u001b[0m\u001b[0;36m0\u001b[0m\u001b[0;34m,\u001b[0m\u001b[0;36m0\u001b[0m\u001b[0;34m]\u001b[0m\u001b[0;34m.\u001b[0m\u001b[0massign\u001b[0m\u001b[0;34m(\u001b[0m\u001b[0;36m2\u001b[0m\u001b[0;34m)\u001b[0m\u001b[0;34m\u001b[0m\u001b[0;34m\u001b[0m\u001b[0m\n",
            "\u001b[0;31mTypeError\u001b[0m: 'tensorflow.python.framework.ops.EagerTensor' object does not support item assignment"
          ]
        }
      ]
    },
    {
      "cell_type": "code",
      "source": [
        "tf.reshape(tensor,shape=(3,2,2))"
      ],
      "metadata": {
        "id": "QIpTqrHW25LN"
      },
      "execution_count": null,
      "outputs": []
    },
    {
      "cell_type": "code",
      "source": [],
      "metadata": {
        "id": "IwHnDPoK27Am"
      },
      "execution_count": null,
      "outputs": []
    },
    {
      "cell_type": "markdown",
      "source": [
        "### Tensorflow Variables\n",
        "- can change data through assign method --> inplace operations\n",
        "- if value is in multidimensional matrix --> then the index of value need to be in the same []"
      ],
      "metadata": {
        "id": "qGdRS-783BSR"
      }
    },
    {
      "cell_type": "code",
      "source": [
        "a = tf.Variable([[1,2],[3,4]])\n",
        "#a[0][0] = 99\n",
        "a[0,0].assign(99) # assign -> inplace operations"
      ],
      "metadata": {
        "id": "yEPIIXqm3FFB"
      },
      "execution_count": null,
      "outputs": []
    },
    {
      "cell_type": "markdown",
      "source": [
        "### Random Tensors\n",
        "- usually used in the weights and bias in the neural networks"
      ],
      "metadata": {
        "id": "gkOIrBRW3YXA"
      }
    },
    {
      "cell_type": "code",
      "source": [
        "# create generator with same random seed\n",
        "random_1 = tf.random.Generator.from_seed(20)\n",
        "\n",
        "# use this generator to generate the random number\n",
        "random_1 = random_1.normal((100,100))\n",
        "random_2 = tf.random.Generator.from_seed(20)\n",
        "random_2 = random_2.normal((100,100))\n",
        "print(random_1)\n",
        "print(random_2)\n",
        "random_1 == random_2"
      ],
      "metadata": {
        "id": "nSpsmxgO3Iu2"
      },
      "execution_count": null,
      "outputs": []
    },
    {
      "cell_type": "code",
      "source": [
        "tf.math.reduce_std(a[:,:])"
      ],
      "metadata": {
        "id": "sG1omI7D3-kg"
      },
      "execution_count": null,
      "outputs": []
    },
    {
      "cell_type": "markdown",
      "source": [
        "### Shuffle Tensors\n",
        "- in order to evenly learn the pattern from the shuffled data.\n",
        "- if the data in training dataset is systematic then learning might tend to be just one main kind of dataset. \n",
        "  - The model performance might be bad."
      ],
      "metadata": {
        "id": "rRJTdknV6Ita"
      }
    },
    {
      "cell_type": "code",
      "source": [
        "tf.random.set_seed(20)\n",
        "prev_tensors = tf.constant([[10,20],\n",
        "                            [30,3],\n",
        "                            [2,5]])\n",
        "print(prev_tensors)\n",
        "shuffled_tensors = tf.random.shuffle(prev_tensors)\n",
        "print(shuffled_tensors)"
      ],
      "metadata": {
        "id": "8acawmnA50Ag",
        "colab": {
          "base_uri": "https://localhost:8080/"
        },
        "outputId": "c33d7982-7e39-4dc8-cee5-d22cc40d8968"
      },
      "execution_count": null,
      "outputs": [
        {
          "output_type": "stream",
          "name": "stdout",
          "text": [
            "tf.Tensor(\n",
            "[[10 20]\n",
            " [30  3]\n",
            " [ 2  5]], shape=(3, 2), dtype=int32)\n",
            "tf.Tensor(\n",
            "[[10 20]\n",
            " [ 2  5]\n",
            " [30  3]], shape=(3, 2), dtype=int32)\n"
          ]
        }
      ]
    },
    {
      "cell_type": "markdown",
      "source": [
        "### Convert numpy arrays to Tensorflow tensor\n",
        "- the tensorflow is similar to numpy in the viewpoint of numerical computation\n",
        "- the different between them is tensorflow tensors can be run on the GPU\n",
        "- numpy -> tensorflow: numpy data can be the input of tensorflow functiion\n",
        "- tensorflow -> numpy: tensor.numpy()"
      ],
      "metadata": {
        "id": "jnhYhS7v9-e1"
      }
    },
    {
      "cell_type": "code",
      "source": [
        "tf_ones = tf.ones([10,7])\n",
        "np_ones = np.ones([10,7])"
      ],
      "metadata": {
        "id": "LMJxV-aO-F4z"
      },
      "execution_count": null,
      "outputs": []
    },
    {
      "cell_type": "code",
      "source": [
        "numpy_a = np.arange(1,11).reshape(2,5)\n",
        "tensor_a = tf.constant(numpy_a,shape=(5,2))"
      ],
      "metadata": {
        "id": "VQ8L0Ez--PxS"
      },
      "execution_count": null,
      "outputs": []
    },
    {
      "cell_type": "code",
      "source": [
        "print(tensor_a)\n",
        "print(numpy_a)"
      ],
      "metadata": {
        "id": "RrCkpVRS-SBG"
      },
      "execution_count": null,
      "outputs": []
    },
    {
      "cell_type": "markdown",
      "source": [
        "### Tensor Attributes\n",
        "- size: element 數量\n",
        "- shape, rank\n",
        "- ndim: n axis => only applied to constant, variable didn't have this prop\n",
        "- multi index getter"
      ],
      "metadata": {
        "id": "o3TGME32_lGj"
      }
    },
    {
      "cell_type": "code",
      "source": [
        "a = tf.Variable([[10,20],[30,40]])"
      ],
      "metadata": {
        "id": "Yo8zP9l5_Wwu"
      },
      "execution_count": null,
      "outputs": []
    },
    {
      "cell_type": "code",
      "source": [
        "print(\"Shape: \", a.shape)\n",
        "print(\"TF.Shape: \", tf.shape(a))\n",
        "\n",
        "# tensors getter with multtiple index\n",
        "print(a[0,0])\n",
        "print(a[:,1])\n",
        "\n",
        " # shape of tensors\n",
        "print(\"Rank: \", tf.rank(a))\n",
        "\n",
        "# datatype of tensor\n",
        "print(\"Datatype: \",a.dtype)\n",
        "\n",
        "# size is count of element \n",
        "print(\"Size:\", tf.size(input=a).numpy())"
      ],
      "metadata": {
        "id": "juwTl234AbLI"
      },
      "execution_count": null,
      "outputs": []
    },
    {
      "cell_type": "code",
      "source": [
        "a.numpy()"
      ],
      "metadata": {
        "id": "MhB2-njiAbpS"
      },
      "execution_count": null,
      "outputs": []
    },
    {
      "cell_type": "markdown",
      "source": [
        "---"
      ],
      "metadata": {
        "id": "upiAOkewyuby"
      }
    },
    {
      "cell_type": "markdown",
      "source": [
        "## 2022.06.10 - Tensorflow Fundamental 2"
      ],
      "metadata": {
        "id": "kZu_6knYC9DU"
      }
    },
    {
      "cell_type": "markdown",
      "source": [
        "### Indexing and Expanding Tensors\n",
        "- expand dim: add on the axis -> tf.newaxis\n",
        "- n dim -> n 組 middle bracket"
      ],
      "metadata": {
        "id": "rb33wc1Jyz93"
      }
    },
    {
      "cell_type": "code",
      "source": [
        "tensor = tf.zeros(shape=(2,3,4,5))\n",
        "tensor[0,0,0,:]"
      ],
      "metadata": {
        "colab": {
          "base_uri": "https://localhost:8080/"
        },
        "id": "aLDXsW_WzNLW",
        "outputId": "12d72cc2-bc11-4b70-aba6-61738679e5ba"
      },
      "execution_count": null,
      "outputs": [
        {
          "output_type": "execute_result",
          "data": {
            "text/plain": [
              "<tf.Tensor: shape=(5,), dtype=float32, numpy=array([0., 0., 0., 0., 0.], dtype=float32)>"
            ]
          },
          "metadata": {},
          "execution_count": 11
        }
      ]
    },
    {
      "cell_type": "code",
      "source": [
        "tf.reshape(tensor,shape=(10,12))"
      ],
      "metadata": {
        "colab": {
          "base_uri": "https://localhost:8080/"
        },
        "id": "11PLP8oX0_2h",
        "outputId": "ce864dd4-3976-4e3f-a6ef-54f6ed18a897"
      },
      "execution_count": null,
      "outputs": [
        {
          "output_type": "execute_result",
          "data": {
            "text/plain": [
              "<tf.Tensor: shape=(10, 12), dtype=float32, numpy=\n",
              "array([[0., 0., 0., 0., 0., 0., 0., 0., 0., 0., 0., 0.],\n",
              "       [0., 0., 0., 0., 0., 0., 0., 0., 0., 0., 0., 0.],\n",
              "       [0., 0., 0., 0., 0., 0., 0., 0., 0., 0., 0., 0.],\n",
              "       [0., 0., 0., 0., 0., 0., 0., 0., 0., 0., 0., 0.],\n",
              "       [0., 0., 0., 0., 0., 0., 0., 0., 0., 0., 0., 0.],\n",
              "       [0., 0., 0., 0., 0., 0., 0., 0., 0., 0., 0., 0.],\n",
              "       [0., 0., 0., 0., 0., 0., 0., 0., 0., 0., 0., 0.],\n",
              "       [0., 0., 0., 0., 0., 0., 0., 0., 0., 0., 0., 0.],\n",
              "       [0., 0., 0., 0., 0., 0., 0., 0., 0., 0., 0., 0.],\n",
              "       [0., 0., 0., 0., 0., 0., 0., 0., 0., 0., 0., 0.]], dtype=float32)>"
            ]
          },
          "metadata": {},
          "execution_count": 15
        }
      ]
    },
    {
      "cell_type": "code",
      "source": [
        "rank_2_tensor = tf.constant([[1,2],[3,4]])\n",
        "rank_2_tensor[:,:,tf.newaxis]\n",
        "\n",
        "# ... mean all axis which is same as above one expression\n",
        "rank_2_tensor[...,tf.newaxis]\n",
        "\n",
        "tf.expand_dims(rank_2_tensor,axis=-1)"
      ],
      "metadata": {
        "colab": {
          "base_uri": "https://localhost:8080/"
        },
        "id": "8Gv_pW-zzR6f",
        "outputId": "50ccfe47-d7d4-4e2c-a9d4-7a9d695d83e7"
      },
      "execution_count": null,
      "outputs": [
        {
          "output_type": "execute_result",
          "data": {
            "text/plain": [
              "<tf.Tensor: shape=(2, 2, 1), dtype=int32, numpy=\n",
              "array([[[1],\n",
              "        [2]],\n",
              "\n",
              "       [[3],\n",
              "        [4]]], dtype=int32)>"
            ]
          },
          "metadata": {},
          "execution_count": 21
        }
      ]
    },
    {
      "cell_type": "code",
      "source": [
        "tf.expand_dims(rank_2_tensor,axis=0)"
      ],
      "metadata": {
        "colab": {
          "base_uri": "https://localhost:8080/"
        },
        "id": "akcJbVpo1U36",
        "outputId": "7ef6cabd-f68d-44e5-a089-49b25bcc57dc"
      },
      "execution_count": null,
      "outputs": [
        {
          "output_type": "execute_result",
          "data": {
            "text/plain": [
              "<tf.Tensor: shape=(1, 2, 2), dtype=int32, numpy=\n",
              "array([[[1, 2],\n",
              "        [3, 4]]], dtype=int32)>"
            ]
          },
          "metadata": {},
          "execution_count": 22
        }
      ]
    },
    {
      "cell_type": "markdown",
      "source": [
        "### Manipulate Tensors\n",
        "- Tensors Basic Operations\n",
        "- matrix multiplication\n",
        "  - tensorflow: tf.matmul\n",
        "  - python: @\n",
        "  - reshape != transpose, reshape is kind of like the shuffle instead of transpose\n",
        "- dot "
      ],
      "metadata": {
        "id": "8oUwbVLd5VYT"
      }
    },
    {
      "cell_type": "code",
      "source": [
        "# element-wise operation through python operation\n",
        "a = tf.constant([[1,2],[5,6]],dtype=tf.dtypes.float16)\n",
        "print(a+10)\n",
        "print(a*10)\n",
        "print(a%10)\n",
        "print(a-10)"
      ],
      "metadata": {
        "colab": {
          "base_uri": "https://localhost:8080/"
        },
        "id": "zTysqv-r5Ux_",
        "outputId": "53871cc3-92c5-4b0c-d092-d04140dfaaea"
      },
      "execution_count": null,
      "outputs": [
        {
          "output_type": "stream",
          "name": "stdout",
          "text": [
            "tf.Tensor(\n",
            "[[11. 12.]\n",
            " [15. 16.]], shape=(2, 2), dtype=float16)\n",
            "tf.Tensor(\n",
            "[[10. 20.]\n",
            " [50. 60.]], shape=(2, 2), dtype=float16)\n",
            "tf.Tensor(\n",
            "[[1. 2.]\n",
            " [5. 6.]], shape=(2, 2), dtype=float16)\n",
            "tf.Tensor(\n",
            "[[-9. -8.]\n",
            " [-5. -4.]], shape=(2, 2), dtype=float16)\n"
          ]
        }
      ]
    },
    {
      "cell_type": "code",
      "source": [
        "# use tenworflow built-in function to do the operations, element-wise oprations\n",
        "print(tf.matmul(a,tf.transpose(a)))\n",
        "\n",
        "# matrix multiplication in python operation is at sign @\n",
        "print(a @ tf.transpose(a))"
      ],
      "metadata": {
        "colab": {
          "base_uri": "https://localhost:8080/"
        },
        "id": "7e3GGQg1446j",
        "outputId": "987a458d-6eba-41e8-9f81-cc65b93a8819"
      },
      "execution_count": null,
      "outputs": [
        {
          "output_type": "stream",
          "name": "stdout",
          "text": [
            "tf.Tensor(\n",
            "[[ 5. 17.]\n",
            " [17. 61.]], shape=(2, 2), dtype=float16)\n",
            "tf.Tensor(\n",
            "[[ 5. 17.]\n",
            " [17. 61.]], shape=(2, 2), dtype=float16)\n"
          ]
        }
      ]
    },
    {
      "cell_type": "code",
      "source": [
        "b = tf.constant([[1,2,3],[4,5,6]])\n",
        "b, tf.reshape(b,shape=(3,2)), tf.transpose(b)"
      ],
      "metadata": {
        "colab": {
          "base_uri": "https://localhost:8080/"
        },
        "id": "JgvMC9ms6ntT",
        "outputId": "2e025859-6061-4d87-ad71-dda95525667f"
      },
      "execution_count": null,
      "outputs": [
        {
          "output_type": "execute_result",
          "data": {
            "text/plain": [
              "(<tf.Tensor: shape=(2, 3), dtype=int32, numpy=\n",
              " array([[1, 2, 3],\n",
              "        [4, 5, 6]], dtype=int32)>,\n",
              " <tf.Tensor: shape=(3, 2), dtype=int32, numpy=\n",
              " array([[1, 2],\n",
              "        [3, 4],\n",
              "        [5, 6]], dtype=int32)>,\n",
              " <tf.Tensor: shape=(3, 2), dtype=int32, numpy=\n",
              " array([[1, 4],\n",
              "        [2, 5],\n",
              "        [3, 6]], dtype=int32)>)"
            ]
          },
          "metadata": {},
          "execution_count": 4
        }
      ]
    },
    {
      "cell_type": "code",
      "source": [
        "#Either a scalar N, or a list or an int32 Tensor of shape [2, k]. \n",
        "# If axes is a scalar, sum over the 'last' N axes of a and the 'first' N axes of b in order. \n",
        "tf.tensordot(tf.transpose(b),b,1)"
      ],
      "metadata": {
        "colab": {
          "base_uri": "https://localhost:8080/"
        },
        "id": "76VxsS3t7bF1",
        "outputId": "a8dd73e9-733d-4811-a6db-9e8861d150ec"
      },
      "execution_count": null,
      "outputs": [
        {
          "output_type": "execute_result",
          "data": {
            "text/plain": [
              "<tf.Tensor: shape=(3, 3), dtype=int32, numpy=\n",
              "array([[17, 22, 27],\n",
              "       [22, 29, 36],\n",
              "       [27, 36, 45]], dtype=int32)>"
            ]
          },
          "metadata": {},
          "execution_count": 51
        }
      ]
    },
    {
      "cell_type": "markdown",
      "source": [
        "### Tenworflow DataType Change"
      ],
      "metadata": {
        "id": "DZBcSMcdBV5J"
      }
    },
    {
      "cell_type": "code",
      "source": [
        "tensor = tf.constant([[1.2,2],[3,4]])"
      ],
      "metadata": {
        "id": "kIaOjNeG-cE8"
      },
      "execution_count": null,
      "outputs": []
    },
    {
      "cell_type": "code",
      "source": [
        "tf.cast(x=tensor, dtype=tf.dtypes.float32)"
      ],
      "metadata": {
        "colab": {
          "base_uri": "https://localhost:8080/"
        },
        "id": "l4nbWmJ2Bb7e",
        "outputId": "9552b87f-156c-4959-a71c-69cde07e174d"
      },
      "execution_count": null,
      "outputs": [
        {
          "output_type": "execute_result",
          "data": {
            "text/plain": [
              "<tf.Tensor: shape=(2, 2), dtype=float32, numpy=\n",
              "array([[1.2, 2. ],\n",
              "       [3. , 4. ]], dtype=float32)>"
            ]
          },
          "metadata": {},
          "execution_count": 59
        }
      ]
    },
    {
      "cell_type": "code",
      "source": [
        "tf.cast(tensor,dtype=tf.dtypes.int32)"
      ],
      "metadata": {
        "colab": {
          "base_uri": "https://localhost:8080/"
        },
        "id": "t89LuttaBkpE",
        "outputId": "53af4ac1-6ef7-4b92-d8f5-c3dead59cfcf"
      },
      "execution_count": null,
      "outputs": [
        {
          "output_type": "execute_result",
          "data": {
            "text/plain": [
              "<tf.Tensor: shape=(2, 2), dtype=int32, numpy=\n",
              "array([[1, 2],\n",
              "       [3, 4]], dtype=int32)>"
            ]
          },
          "metadata": {},
          "execution_count": 60
        }
      ]
    },
    {
      "cell_type": "markdown",
      "source": [
        "### Tensorflow Aggregation Function"
      ],
      "metadata": {
        "id": "IKekzUxBCf3u"
      }
    },
    {
      "cell_type": "code",
      "source": [
        "data = tf.constant(np.random.randint(0,100,size=50)*1.0)"
      ],
      "metadata": {
        "id": "RY68ln5tCFCC"
      },
      "execution_count": null,
      "outputs": []
    },
    {
      "cell_type": "code",
      "source": [
        "print(tf.abs(data))\n",
        "print(tf.math.reduce_mean(data))\n",
        "print(tf.math.reduce_min(data))\n",
        "print(tf.math.reduce_max(data))\n",
        "print(tf.math.reduce_sum(data))\n",
        "print(tf.math.reduce_std(data))\n",
        "print(tf.math.reduce_variance(data))\n",
        "print(tf.math.sqrt(tf.math.reduce_variance(data)))\n"
      ],
      "metadata": {
        "colab": {
          "base_uri": "https://localhost:8080/"
        },
        "id": "fYCKk8m3EM6P",
        "outputId": "2df75434-7c79-4a0a-aff3-2859984ccba9"
      },
      "execution_count": null,
      "outputs": [
        {
          "output_type": "stream",
          "name": "stdout",
          "text": [
            "tf.Tensor(\n",
            "[43. 24.  1. 28. 70. 85. 81. 50. 72. 66. 19. 26. 24. 85. 29. 10. 93. 66.\n",
            " 69. 60. 11. 69. 78.  5. 56. 18. 42. 50. 47. 35.  5. 79. 24. 35. 75. 43.\n",
            "  4. 36. 91. 19. 80. 30. 87.  6. 36. 52. 99. 91. 67. 90.], shape=(50,), dtype=float64)\n",
            "tf.Tensor(49.22, shape=(), dtype=float64)\n",
            "tf.Tensor(1.0, shape=(), dtype=float64)\n",
            "tf.Tensor(99.0, shape=(), dtype=float64)\n",
            "tf.Tensor(2461.0, shape=(), dtype=float64)\n",
            "tf.Tensor(28.695149415885602, shape=(), dtype=float64)\n",
            "tf.Tensor(823.4115999999999, shape=(), dtype=float64)\n",
            "tf.Tensor(28.695149415885602, shape=(), dtype=float64)\n"
          ]
        }
      ]
    },
    {
      "cell_type": "code",
      "source": [
        "data_mean = tf.math.reduce_mean(data)\n",
        "delta_sum = tf.reduce_sum(tf.math.pow(data - data_mean, 2))\n",
        "#data_size = data.shape[0]\n",
        "# use cast to convert the data type so that we can run the basic operation on tensors\n",
        "data_size = tf.cast(tf.size(data),dtype=tf.dtypes.float64)\n",
        "data_variance = tf.divide(delta_sum,data_size)\n",
        "print(\"variance:\", data_variance)\n",
        "tf.sqrt(data_variance)"
      ],
      "metadata": {
        "colab": {
          "base_uri": "https://localhost:8080/"
        },
        "id": "i-pB0TdfE-5h",
        "outputId": "460ffe93-10a1-4209-8796-cc85851cab0a"
      },
      "execution_count": null,
      "outputs": [
        {
          "output_type": "stream",
          "name": "stdout",
          "text": [
            "variance: tf.Tensor(823.4115999999999, shape=(), dtype=float64)\n"
          ]
        },
        {
          "output_type": "execute_result",
          "data": {
            "text/plain": [
              "<tf.Tensor: shape=(), dtype=float64, numpy=28.695149415885602>"
            ]
          },
          "metadata": {},
          "execution_count": 124
        }
      ]
    },
    {
      "cell_type": "code",
      "source": [
        "tf.size(data)"
      ],
      "metadata": {
        "colab": {
          "base_uri": "https://localhost:8080/"
        },
        "id": "DecuXxviF-Co",
        "outputId": "63c2ea5c-9c9f-4b43-a1c7-f46bd80361a3"
      },
      "execution_count": null,
      "outputs": [
        {
          "output_type": "execute_result",
          "data": {
            "text/plain": [
              "<tf.Tensor: shape=(), dtype=int32, numpy=50>"
            ]
          },
          "metadata": {},
          "execution_count": 111
        }
      ]
    },
    {
      "cell_type": "markdown",
      "source": [
        "## 2022.06.11 - Tensorflow Fundamental 3"
      ],
      "metadata": {
        "id": "mX-NG1HjIl84"
      }
    },
    {
      "cell_type": "markdown",
      "source": [
        "### Find the position of minimum and maximum\n",
        "- easy to find the index of maximum and minimum then to label it or compare the predicted and actual value."
      ],
      "metadata": {
        "id": "cHzXmPTrqfG0"
      }
    },
    {
      "cell_type": "code",
      "source": [
        "data = tf.constant(np.random.randint(0,100,size=50).reshape(5,10)*1.0)\n",
        "print(data.ndim)\n",
        "print(data)"
      ],
      "metadata": {
        "id": "nrCB2_ESIpwr",
        "colab": {
          "base_uri": "https://localhost:8080/"
        },
        "outputId": "b07cac54-d2ce-4092-bb8e-c922a42f79df"
      },
      "execution_count": null,
      "outputs": [
        {
          "output_type": "stream",
          "name": "stdout",
          "text": [
            "2\n",
            "tf.Tensor(\n",
            "[[32. 82. 50. 59. 38. 37. 75. 63. 51.  9.]\n",
            " [ 7. 73. 65. 74.  2. 99. 85. 96. 62.  4.]\n",
            " [46. 90. 33. 99. 10. 14. 21. 97. 99. 83.]\n",
            " [96. 28. 32. 85. 92. 46. 29.  0. 45. 21.]\n",
            " [55. 83. 82. 28. 94. 40. 92. 83. 85. 81.]], shape=(5, 10), dtype=float64)\n"
          ]
        }
      ]
    },
    {
      "cell_type": "code",
      "source": [
        "# tensor can be viewed as index to indexer the tensor\n",
        "print(tf.argmax(data,axis=1))\n",
        "print(tf.reduce_max(data,axis=1))\n",
        "print(data[0,tf.argmax(data,axis=1)[0]] == tf.reduce_max(data,axis=1)[0])\n",
        "print(tf.argmin(data,axis=1))\n",
        "print(tf.reduce_min(data,axis=1))"
      ],
      "metadata": {
        "colab": {
          "base_uri": "https://localhost:8080/"
        },
        "id": "U6xKukL6qj86",
        "outputId": "1b8b6f26-f2d0-49f4-b08f-efd512df1c26"
      },
      "execution_count": null,
      "outputs": [
        {
          "output_type": "stream",
          "name": "stdout",
          "text": [
            "tf.Tensor([1 5 3 0 4], shape=(5,), dtype=int64)\n",
            "tf.Tensor([82. 99. 99. 96. 94.], shape=(5,), dtype=float64)\n",
            "tf.Tensor(True, shape=(), dtype=bool)\n",
            "tf.Tensor([9 4 4 7 3], shape=(5,), dtype=int64)\n",
            "tf.Tensor([ 9.  2. 10.  0. 28.], shape=(5,), dtype=float64)\n"
          ]
        }
      ]
    },
    {
      "cell_type": "markdown",
      "source": [
        "### Squeezing the tensors \n",
        " - remove all dimensions that only include 1 element"
      ],
      "metadata": {
        "id": "sHgVkhuPtV79"
      }
    },
    {
      "cell_type": "code",
      "source": [
        "S = tf.constant(tf.random.uniform((1,1,1,1,50)))"
      ],
      "metadata": {
        "id": "xv0VFoW_tVAU"
      },
      "execution_count": null,
      "outputs": []
    },
    {
      "cell_type": "code",
      "source": [
        "print(tf.squeeze(S))\n",
        "tf.squeeze(S).shape[0]"
      ],
      "metadata": {
        "colab": {
          "base_uri": "https://localhost:8080/"
        },
        "id": "guVR6WgPr88y",
        "outputId": "924752ac-edd7-4249-f2ec-cf3c754d8d90"
      },
      "execution_count": null,
      "outputs": [
        {
          "output_type": "stream",
          "name": "stdout",
          "text": [
            "tf.Tensor(\n",
            "[0.01452792 0.5075201  0.76797616 0.1656152  0.02546835 0.6364001\n",
            " 0.8997843  0.8040842  0.77213347 0.13624763 0.1498884  0.4364934\n",
            " 0.0844574  0.09030998 0.3530562  0.5768864  0.12654746 0.9370935\n",
            " 0.8868599  0.76716256 0.96796715 0.77701986 0.85111475 0.651001\n",
            " 0.2557776  0.44316912 0.7672961  0.5624596  0.84120417 0.08463967\n",
            " 0.5728135  0.37961614 0.45207953 0.28983366 0.4788066  0.24333942\n",
            " 0.92461884 0.7918999  0.520617   0.9164723  0.56811404 0.24902582\n",
            " 0.33135045 0.23262632 0.58611846 0.8747262  0.9306774  0.30738986\n",
            " 0.09390843 0.31186438], shape=(50,), dtype=float32)\n"
          ]
        },
        {
          "output_type": "execute_result",
          "data": {
            "text/plain": [
              "50"
            ]
          },
          "metadata": {},
          "execution_count": 38
        }
      ]
    },
    {
      "cell_type": "markdown",
      "source": [
        "### One-hot encoding\n",
        "- tf.one_hot"
      ],
      "metadata": {
        "id": "4ZRBDcs5t8KA"
      }
    },
    {
      "cell_type": "code",
      "source": [
        "some_list = range(0,4)\n",
        "\n",
        "# on_value, the value match category, off_value. the value doesn't match the category\n",
        "tf.one_hot(some_list,depth=3,on_value=\"Y\",off_value=\"N\")"
      ],
      "metadata": {
        "colab": {
          "base_uri": "https://localhost:8080/"
        },
        "id": "6eNySGeGt78r",
        "outputId": "f5eef7ee-3a70-4827-d20b-8dfad92648ab"
      },
      "execution_count": null,
      "outputs": [
        {
          "output_type": "execute_result",
          "data": {
            "text/plain": [
              "<tf.Tensor: shape=(4, 3), dtype=string, numpy=\n",
              "array([[b'Y', b'N', b'N'],\n",
              "       [b'N', b'Y', b'N'],\n",
              "       [b'N', b'N', b'Y'],\n",
              "       [b'N', b'N', b'N']], dtype=object)>"
            ]
          },
          "metadata": {},
          "execution_count": 46
        }
      ]
    },
    {
      "cell_type": "markdown",
      "source": [
        "### More Math operations"
      ],
      "metadata": {
        "id": "DKR8scBjwF9C"
      }
    },
    {
      "cell_type": "code",
      "source": [
        "new_tensor = tf.range(10)"
      ],
      "metadata": {
        "id": "frF7XxaPtm78"
      },
      "execution_count": null,
      "outputs": []
    },
    {
      "cell_type": "code",
      "source": [
        "print(tf.square(new_tensor))\n",
        "print(tf.sqrt(tf.cast(new_tensor,dtype=tf.dtypes.float16)))\n",
        "print(tf.math.log(tf.cast(new_tensor,dtype=tf.dtypes.float16)))"
      ],
      "metadata": {
        "colab": {
          "base_uri": "https://localhost:8080/"
        },
        "id": "v0dMTRtRwfWj",
        "outputId": "037f0839-e269-4b60-e174-dcfb2eba7bef"
      },
      "execution_count": null,
      "outputs": [
        {
          "output_type": "stream",
          "name": "stdout",
          "text": [
            "tf.Tensor([ 0  1  4  9 16 25 36 49 64 81], shape=(10,), dtype=int32)\n",
            "tf.Tensor([0.    1.    1.414 1.732 2.    2.236 2.45  2.646 2.828 3.   ], shape=(10,), dtype=float16)\n",
            "tf.Tensor([  -inf 0.     0.6934 1.099  1.387  1.609  1.792  1.946  2.08   2.197 ], shape=(10,), dtype=float16)\n"
          ]
        }
      ]
    },
    {
      "cell_type": "markdown",
      "source": [
        "### Compatibility between numpy and tensorflow\n",
        "- default dtype for floating point is different\n",
        "  - numpy: float64\n",
        "  - tensorflow: float32"
      ],
      "metadata": {
        "id": "d8JtqM9-xO46"
      }
    },
    {
      "cell_type": "code",
      "source": [
        "print(np.random.randn(10,10).dtype)\n",
        "print(tf.random.normal(shape=[30]).dtype)"
      ],
      "metadata": {
        "colab": {
          "base_uri": "https://localhost:8080/"
        },
        "id": "LBsBK8Ohyo_I",
        "outputId": "e5f48796-2934-462f-ad9a-57d344e46800"
      },
      "execution_count": null,
      "outputs": [
        {
          "output_type": "stream",
          "name": "stdout",
          "text": [
            "float64\n",
            "<dtype: 'float32'>\n"
          ]
        }
      ]
    },
    {
      "cell_type": "code",
      "source": [
        "J = tf.constant(tf.range(30))\n",
        "print(J.numpy())\n",
        "np.array(J), type(np.array(J))"
      ],
      "metadata": {
        "colab": {
          "base_uri": "https://localhost:8080/"
        },
        "id": "oLkPunYkxODU",
        "outputId": "2e427ad6-9d27-4040-ab2f-bea80a2c9543"
      },
      "execution_count": null,
      "outputs": [
        {
          "output_type": "stream",
          "name": "stdout",
          "text": [
            "[ 0  1  2  3  4  5  6  7  8  9 10 11 12 13 14 15 16 17 18 19 20 21 22 23\n",
            " 24 25 26 27 28 29]\n"
          ]
        },
        {
          "output_type": "execute_result",
          "data": {
            "text/plain": [
              "(array([ 0,  1,  2,  3,  4,  5,  6,  7,  8,  9, 10, 11, 12, 13, 14, 15, 16,\n",
              "        17, 18, 19, 20, 21, 22, 23, 24, 25, 26, 27, 28, 29], dtype=int32),\n",
              " numpy.ndarray)"
            ]
          },
          "metadata": {},
          "execution_count": 5
        }
      ]
    },
    {
      "cell_type": "code",
      "source": [
        "JN = np.array(J)\n",
        "tf.constant(JN),type(tf.constant(JN))"
      ],
      "metadata": {
        "colab": {
          "base_uri": "https://localhost:8080/"
        },
        "id": "oj__odeVx-6U",
        "outputId": "b632f970-4426-4a70-eb61-6ab6d35e818a"
      },
      "execution_count": null,
      "outputs": [
        {
          "output_type": "execute_result",
          "data": {
            "text/plain": [
              "(<tf.Tensor: shape=(30,), dtype=int32, numpy=\n",
              " array([ 0,  1,  2,  3,  4,  5,  6,  7,  8,  9, 10, 11, 12, 13, 14, 15, 16,\n",
              "        17, 18, 19, 20, 21, 22, 23, 24, 25, 26, 27, 28, 29], dtype=int32)>,\n",
              " tensorflow.python.framework.ops.EagerTensor)"
            ]
          },
          "metadata": {},
          "execution_count": 6
        }
      ]
    },
    {
      "cell_type": "markdown",
      "source": [
        "### Run tensors on the GPU"
      ],
      "metadata": {
        "id": "MLOqvLHMz9-I"
      }
    },
    {
      "cell_type": "code",
      "source": [
        "tf.config.list_physical_devices()"
      ],
      "metadata": {
        "colab": {
          "base_uri": "https://localhost:8080/"
        },
        "id": "-a1s1tGRSrek",
        "outputId": "7aa38dac-0c2f-44c9-fc09-2bbbf5e8a36e"
      },
      "execution_count": null,
      "outputs": [
        {
          "output_type": "execute_result",
          "data": {
            "text/plain": [
              "[PhysicalDevice(name='/physical_device:CPU:0', device_type='CPU'),\n",
              " PhysicalDevice(name='/physical_device:GPU:0', device_type='GPU')]"
            ]
          },
          "metadata": {},
          "execution_count": 9
        }
      ]
    },
    {
      "cell_type": "code",
      "source": [
        "### test GPU is available\n",
        "tf.test.is_gpu_available()\n",
        "print(tf.config.list_physical_devices())\n",
        "print(tf.config.list_physical_devices('GPU'))\n",
        "\n",
        "# how to access GPU\n",
        "tf.test.is_gpu_available()"
      ],
      "metadata": {
        "colab": {
          "base_uri": "https://localhost:8080/"
        },
        "id": "oG-haICCyGPr",
        "outputId": "4532b197-cfa4-419e-8528-70d8d8784de5"
      },
      "execution_count": null,
      "outputs": [
        {
          "output_type": "stream",
          "name": "stdout",
          "text": [
            "[PhysicalDevice(name='/physical_device:CPU:0', device_type='CPU'), PhysicalDevice(name='/physical_device:GPU:0', device_type='GPU')]\n",
            "[PhysicalDevice(name='/physical_device:GPU:0', device_type='GPU')]\n"
          ]
        },
        {
          "output_type": "execute_result",
          "data": {
            "text/plain": [
              "True"
            ]
          },
          "metadata": {},
          "execution_count": 4
        }
      ]
    },
    {
      "cell_type": "code",
      "source": [
        "#\n",
        "!nvidia-smi -L"
      ],
      "metadata": {
        "colab": {
          "base_uri": "https://localhost:8080/"
        },
        "id": "aFzN8uDF0Kp-",
        "outputId": "2a07d39b-7fb5-459d-f3ac-3c024796e013"
      },
      "execution_count": null,
      "outputs": [
        {
          "output_type": "stream",
          "name": "stdout",
          "text": [
            "GPU 0: Tesla T4 (UUID: GPU-affdb74e-10d5-a252-3c1c-24e6918d184b)\n"
          ]
        }
      ]
    },
    {
      "cell_type": "markdown",
      "source": [
        "## Exercises\n",
        "- Create a vector, scalar, matrix and tensor with values of your choosing using tf.constant().\n",
        "\n",
        "- Find the shape, rank and size of the tensors you created in 1.\n",
        "\n",
        "- Create two tensors containing random values between 0 and 1 with shape [5, 300].\n",
        "\n",
        "- Multiply the two tensors you created in 3 using matrix multiplication.\n",
        "\n",
        "- Multiply the two tensors you created in 3 using dot product.\n",
        "\n",
        "- Create a tensor with random values between 0 and 1 with shape [224, 224, 3].\n",
        "\n",
        "- Find the min and max values of the tensor you created in 6.\n",
        "\n",
        "- Created a tensor with random values of shape [1, 224, 224, 3] then squeeze it to change the shape to [224, 224, 3].\n",
        "\n",
        "- Create a tensor with shape [10] using your own choice of values, then find the index which has the maximum value.\n",
        "\n",
        "- One-hot encode the tensor you created in 9.\n",
        "\n",
        "\n"
      ],
      "metadata": {
        "id": "zKJult4G2UaW"
      }
    },
    {
      "cell_type": "code",
      "source": [
        "scalar = tf.constant(10)\n",
        "vector = tf.constant([10,10])\n",
        "matrix = tf.constant(tf.reshape(tf.range(100),shape=(10,10)))\n",
        "tensor = tf.ones(shape=(2,3,4,5))"
      ],
      "metadata": {
        "id": "eovrbOrL1DJJ"
      },
      "execution_count": null,
      "outputs": []
    },
    {
      "cell_type": "code",
      "source": [
        "def show_info_tensor(tensor,name=None):\n",
        "  name = \"\" if not name else name\n",
        "  print(f\"{name}: \")\n",
        "  print(tensor.shape,tensor.ndim,tf.rank(tensor),tf.size(tensor))\n",
        "\n",
        "show_info_tensor(scalar,\"scalar\")\n",
        "show_info_tensor(vector,\"vector\")\n",
        "show_info_tensor(matrix,\"matrix\")\n",
        "show_info_tensor(tensor,\"tensor\")"
      ],
      "metadata": {
        "colab": {
          "base_uri": "https://localhost:8080/"
        },
        "id": "eWPmn82b26Ak",
        "outputId": "27ee5dcd-2a86-44e2-adb2-bc38ae98fc9a"
      },
      "execution_count": null,
      "outputs": [
        {
          "output_type": "stream",
          "name": "stdout",
          "text": [
            "scalar: \n",
            "() 0 tf.Tensor(0, shape=(), dtype=int32) tf.Tensor(1, shape=(), dtype=int32)\n",
            "vector: \n",
            "(2,) 1 tf.Tensor(1, shape=(), dtype=int32) tf.Tensor(2, shape=(), dtype=int32)\n",
            "matrix: \n",
            "(10, 10) 2 tf.Tensor(2, shape=(), dtype=int32) tf.Tensor(100, shape=(), dtype=int32)\n",
            "tensor: \n",
            "(2, 3, 4, 5) 4 tf.Tensor(4, shape=(), dtype=int32) tf.Tensor(120, shape=(), dtype=int32)\n"
          ]
        }
      ]
    },
    {
      "cell_type": "code",
      "source": [
        "tf.random.set_seed(50)\n",
        "a_tensor = tf.random.normal([5,300])\n",
        "b_tensor = tf.random.normal([5,300])"
      ],
      "metadata": {
        "id": "QUgwmbe53Saf"
      },
      "execution_count": null,
      "outputs": []
    },
    {
      "cell_type": "code",
      "source": [
        "tf.matmul(tf.transpose(a_tensor),b_tensor)\n",
        "tf.tensordot(tf.transpose(a_tensor),b_tensor,axes=1)"
      ],
      "metadata": {
        "colab": {
          "base_uri": "https://localhost:8080/"
        },
        "id": "Qo7uy6Xn4M8M",
        "outputId": "ae6e9fe4-1bd6-4edb-f54d-6397a1e0c662"
      },
      "execution_count": null,
      "outputs": [
        {
          "output_type": "execute_result",
          "data": {
            "text/plain": [
              "<tf.Tensor: shape=(300, 300), dtype=float32, numpy=\n",
              "array([[-7.1685386e+00,  1.1473501e-01,  2.1391706e-01, ...,\n",
              "         7.6639962e+00, -4.3443861e+00,  1.3419929e+00],\n",
              "       [-9.2797714e-01,  1.6624513e-01,  2.1163752e+00, ...,\n",
              "        -1.9174743e+00,  1.2463714e+00,  2.4754250e-01],\n",
              "       [-1.5128865e+00, -1.6340165e+00, -1.9666567e+00, ...,\n",
              "         3.9334955e+00, -2.3893661e+00, -9.2074692e-01],\n",
              "       ...,\n",
              "       [-8.9702139e+00, -4.1398582e+00, -4.3142462e+00, ...,\n",
              "         2.9283366e+00, -2.9221184e+00, -2.8664489e+00],\n",
              "       [-5.0611815e+00, -9.6359462e-02, -1.4880518e+00, ...,\n",
              "         1.5780725e+00, -1.9388225e+00, -1.0957892e+00],\n",
              "       [-1.1637000e+01,  3.7710310e-03,  6.5080845e-01, ...,\n",
              "         8.0707884e+00, -4.6435137e+00,  2.1087081e+00]], dtype=float32)>"
            ]
          },
          "metadata": {},
          "execution_count": 21
        }
      ]
    },
    {
      "cell_type": "code",
      "source": [
        "random_generator = tf.random.Generator.from_seed(20)\n",
        "c_tensor = random_generator.uniform(shape = [1,224,224,3])\n",
        "print(tf.math.reduce_max(c_tensor))\n",
        "print(tf.math.reduce_min(c_tensor))\n",
        "tf.squeeze(c_tensor).shape"
      ],
      "metadata": {
        "colab": {
          "base_uri": "https://localhost:8080/"
        },
        "id": "_-ZvXW2L4YST",
        "outputId": "de22e62b-9cbb-4f9a-c485-9b425d4e19e9"
      },
      "execution_count": null,
      "outputs": [
        {
          "output_type": "stream",
          "name": "stdout",
          "text": [
            "tf.Tensor(0.99998736, shape=(), dtype=float32)\n",
            "tf.Tensor(4.053116e-06, shape=(), dtype=float32)\n"
          ]
        },
        {
          "output_type": "execute_result",
          "data": {
            "text/plain": [
              "TensorShape([224, 224, 3])"
            ]
          },
          "metadata": {},
          "execution_count": 30
        }
      ]
    },
    {
      "cell_type": "code",
      "source": [
        "np.random.seed(20)\n",
        "choice_list = np.random.randint(1,10, size=10)\n",
        "d_tensor = tf.constant(np.random.choice(choice_list,10),dtype=tf.dtypes.int32)\n",
        "print(d_tensor)\n",
        "\n",
        "print(tf.argmax(d_tensor))\n",
        "print(tf.argmin(d_tensor))"
      ],
      "metadata": {
        "colab": {
          "base_uri": "https://localhost:8080/"
        },
        "id": "3_GXEhm94yCN",
        "outputId": "8d0d2203-b1f3-461e-fa10-46d54347d42f"
      },
      "execution_count": null,
      "outputs": [
        {
          "output_type": "stream",
          "name": "stdout",
          "text": [
            "tf.Tensor([4 7 7 4 4 1 9 1 7 7], shape=(10,), dtype=int32)\n",
            "tf.Tensor(6, shape=(), dtype=int64)\n",
            "tf.Tensor(5, shape=(), dtype=int64)\n"
          ]
        }
      ]
    },
    {
      "cell_type": "code",
      "source": [
        "max_shape = max(d_tensor.shape)\n",
        "tf.one_hot(d_tensor,depth=max(max_shape,tf.math.reduce_max(d_tensor)))"
      ],
      "metadata": {
        "colab": {
          "base_uri": "https://localhost:8080/"
        },
        "id": "Ld9hs62b5BzH",
        "outputId": "61fa608b-bc3f-466c-c910-1b3781e7cb33"
      },
      "execution_count": null,
      "outputs": [
        {
          "output_type": "execute_result",
          "data": {
            "text/plain": [
              "<tf.Tensor: shape=(10, 10), dtype=float32, numpy=\n",
              "array([[0., 0., 0., 0., 1., 0., 0., 0., 0., 0.],\n",
              "       [0., 0., 0., 0., 0., 0., 0., 1., 0., 0.],\n",
              "       [0., 0., 0., 0., 0., 0., 0., 1., 0., 0.],\n",
              "       [0., 0., 0., 0., 1., 0., 0., 0., 0., 0.],\n",
              "       [0., 0., 0., 0., 1., 0., 0., 0., 0., 0.],\n",
              "       [0., 1., 0., 0., 0., 0., 0., 0., 0., 0.],\n",
              "       [0., 0., 0., 0., 0., 0., 0., 0., 0., 1.],\n",
              "       [0., 1., 0., 0., 0., 0., 0., 0., 0., 0.],\n",
              "       [0., 0., 0., 0., 0., 0., 0., 1., 0., 0.],\n",
              "       [0., 0., 0., 0., 0., 0., 0., 1., 0., 0.]], dtype=float32)>"
            ]
          },
          "metadata": {},
          "execution_count": 51
        }
      ]
    },
    {
      "cell_type": "code",
      "source": [],
      "metadata": {
        "id": "4UQxkYod7S9v"
      },
      "execution_count": null,
      "outputs": []
    }
  ]
}
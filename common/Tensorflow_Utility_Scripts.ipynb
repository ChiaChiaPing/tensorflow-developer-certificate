{
  "cells": [
    {
      "cell_type": "code",
      "execution_count": null,
      "metadata": {
        "colab": {
          "base_uri": "https://localhost:8080/"
        },
        "id": "w92aCQUQP7LE",
        "outputId": "a55875b6-8cab-4d30-df9f-2baa7e264f35"
      },
      "outputs": [
        {
          "name": "stdout",
          "output_type": "stream",
          "text": [
            "--2022-07-29 22:57:10--  https://raw.githubusercontent.com/mrdbourke/tensorflow-deep-learning/main/extras/helper_functions.py\n",
            "Resolving raw.githubusercontent.com (raw.githubusercontent.com)... 185.199.108.133, 185.199.109.133, 185.199.110.133, ...\n",
            "Connecting to raw.githubusercontent.com (raw.githubusercontent.com)|185.199.108.133|:443... connected.\n",
            "HTTP request sent, awaiting response... 200 OK\n",
            "Length: 10246 (10K) [text/plain]\n",
            "Saving to: ‘helper_functions.py’\n",
            "\n",
            "helper_functions.py 100%[===================>]  10.01K  --.-KB/s    in 0s      \n",
            "\n",
            "2022-07-29 22:57:10 (100 MB/s) - ‘helper_functions.py’ saved [10246/10246]\n",
            "\n"
          ]
        }
      ],
      "source": [
        "!wget https://raw.githubusercontent.com/mrdbourke/tensorflow-deep-learning/main/extras/helper_functions.py"
      ]
    },
    {
      "cell_type": "markdown",
      "metadata": {
        "id": "0aEZC7JEHHHc"
      },
      "source": [
        "### Module Import"
      ]
    },
    {
      "cell_type": "code",
      "execution_count": null,
      "metadata": {
        "colab": {
          "base_uri": "https://localhost:8080/"
        },
        "id": "bEtGmbdtGLBw",
        "outputId": "7e604057-a114-4e2a-96e7-ddfcd0e09b42"
      },
      "outputs": [
        {
          "name": "stdout",
          "output_type": "stream",
          "text": [
            "2.8.2\n"
          ]
        }
      ],
      "source": [
        "import datetime as dt\n",
        "import os\n",
        "import pathlib\n",
        "\n",
        "import seaborn as sns\n",
        "import matplotlib.pyplot as plt\n",
        "import numpy as np\n",
        "import pandas as pd\n",
        "import scipy\n",
        "import matplotlib.image as mpimg\n",
        "import helper_functions as hf\n",
        "\n",
        "\n",
        "from sklearn.model_selection import train_test_split,GridSearchCV, RandomizedSearchCV, cross_val_score\n",
        "from sklearn.compose import make_column_transformer\n",
        "from sklearn.preprocessing import MinMaxScaler, StandardScaler, OneHotEncoder\n",
        "from sklearn.metrics import classification_report, confusion_matrix\n",
        "\n",
        "\n",
        "import tensorflow as tf\n",
        "print(tf.__version__)\n",
        "import tensorflow_hub as hub\n",
        "from tensorflow.keras.utils import plot_model\n",
        "from tensorflow.keras.datasets import fashion_mnist\n",
        "from tensorflow.keras.preprocessing.image import ImageDataGenerator"
      ]
    },
    {
      "cell_type": "markdown",
      "metadata": {
        "id": "JBMGsYNSDaYz"
      },
      "source": [
        "### Regression NN Model"
      ]
    },
    {
      "cell_type": "code",
      "execution_count": null,
      "metadata": {
        "id": "qPbP4GnwGE1Q"
      },
      "outputs": [],
      "source": [
        "def plot_actual_prediction(x_train,y_train,x_test,y_test,y_pred):\n",
        "  \"\"\"\n",
        "  plot the scatter plot for actual and predicted value\n",
        "  \"\"\"\n",
        "  plt.figure(figsize=(12,9))\n",
        "  plt.scatter(x_train,y_train,c = \"blue\",label=\"train\")\n",
        "  plt.scatter(x_test,y_test,c=\"green\",label=\"test\")\n",
        "  plt.scatter(X_test,y_pred,c=\"red\",label=\"prediction\")\n",
        "  plt.legend()\n",
        "\n",
        "def mae(y_true,y_pred):\n",
        "  \"\"\"\n",
        "  calculate mae\n",
        "  \"\"\"\n",
        "  return tf.metrics.mean_absolute_error(y_true,y_pred)\n",
        "  \n",
        "def mse(y_true,y_pred):\n",
        "  return tf.metrics.mean_squared_error(y_true,y_pred)"
      ]
    },
    {
      "cell_type": "markdown",
      "metadata": {
        "id": "eAVzu9j9F4si"
      },
      "source": [
        "### Classification NN Model"
      ]
    },
    {
      "cell_type": "code",
      "execution_count": null,
      "metadata": {
        "id": "iRvHXFj6GFkW"
      },
      "outputs": [],
      "source": [
        "def sigmoid(z):\n",
        "  return 1 / (1+tf.exp(-z))\n",
        "\n",
        "def relu_func(z):\n",
        "  return tf.maximum(0,z)\n",
        "\n",
        "def linear_func(z):\n",
        "  return z\n",
        "\n",
        "def softmax(z,*args):\n",
        "  total_probs = sum([tf.exp(z_) for z_ in args])\n",
        "  return z*1.0 /total_probs\n",
        "\n",
        "def plot_decision_boundary(model,X,y,activation_on_output_layer=True):\n",
        "\n",
        "  X_min, X_max = X[:,0].min() - 0.1, X[:,0].max() + 0.1\n",
        "  y_min, y_max = X[:,1].min() - 0.1, X[:,1].max() + 0.1\n",
        "\n",
        "  # the X axxis and Y axix data point on the plot\n",
        "  XX, yy = np.meshgrid(np.linspace(X_min,X_max,100),\n",
        "                        np.linspace(y_min,y_max,100)) \n",
        "\n",
        "  X_in = np.c_[XX.ravel(),yy.ravel()]  # prepare the simulated datasets\n",
        "  y_pred = model.predict(X_in)\n",
        "  if not activation_on_output_layer:\n",
        "    y_pred = 1 / (1+tf.exp(-y_pred))\n",
        "  \n",
        "\n",
        "  # becauase want to class ID like the index of maximum to make it as the color in the plot, \n",
        "  # like use differentt ID represent different color represent different category\n",
        "  if y_pred.shape[1] > 1:\n",
        "    print(\"doing multiclass classifications.\")\n",
        "    y_pred_class = np.argmax(y_pred,axis=1).reshape(XX.shape)\n",
        "    \n",
        "  else:\n",
        "    print(\"doing binary class classification.\")\n",
        "    y_pred_class = np.round(y_pred).reshape(XX.shape)\n",
        "\n",
        "  plt.contourf(XX,yy, y_pred_class,cmap=plt.cm.RdYlBu,alpha=0.5)\n",
        "  plt.scatter(X[:,0],X[:,1], s=40, c = y,cmap=plt.cm.RdYlBu)\n",
        "  plt.xlim(XX.min(),XX.max())\n",
        "  plt.ylim(yy.min(),yy.max())"
      ]
    },
    {
      "cell_type": "code",
      "execution_count": null,
      "metadata": {
        "id": "RM7eN4t-GFiX"
      },
      "outputs": [],
      "source": [
        "def plot_confusion_matrix(y_true,y_pred,classes=None,figsize=(20,16)):\n",
        "  fig, ax = plt.subplots(figsize=figsize)\n",
        "\n",
        "  # only calculate the TPR and FPR\n",
        "  cm = confusion_matrix(y_true,y_pred)\n",
        "  c_norm = cm / cm.sum(axis=1)[:,np.newaxis]\n",
        "  cmt = ax.matshow(cm,cmap=plt.cm.Blues)\n",
        "  fig.colorbar(cmt)\n",
        "\n",
        "  # format the ax and make it prettier\n",
        "  ax.xaxis.set_ticks_position(\"bottom\")\n",
        "  ax.xaxis.tick_bottom()\n",
        "  ax.title.set_size(20)\n",
        "  ax.xaxis.label.set_size(10)\n",
        "  ax.yaxis.label.set_size(10)\n",
        "\n",
        "  labels = classes if classes else np.arange(cm.shape[0])\n",
        "\n",
        "  ax.set(\n",
        "      title = \"Confusion Matrix\",\n",
        "      xlabel = \"Predicted Label\",\n",
        "      ylabel = \"Actual Label\",\n",
        "      xticks = np.arange(cm.shape[0]),\n",
        "      yticks = np.arange(cm.shape[0]),\n",
        "      xticklabels = labels,\n",
        "      yticklabels = labels\n",
        "  )\n",
        "\n",
        "  threshold = (cm.max()+cm.min()) / 2\n",
        "\n",
        "  # the text cords is same as the screen, the y-axis is going down\n",
        "  for i,j in itertools.product(range(cm.shape[0]),range(cm.shape[0])):\n",
        "    plt.text(j,i,f\"{cm[i,j]} ({c_norm[i,j]*100:.1f}%)\",\n",
        "            size=10,\n",
        "            horizontalalignment=\"center\",\n",
        "            color = \"white\" if cm[i,j] > threshold else \"black\")\n"
      ]
    },
    {
      "cell_type": "code",
      "execution_count": null,
      "metadata": {
        "id": "pK-gh6k4GFgd"
      },
      "outputs": [],
      "source": [
        "def plot_random_image(model,images,actual_labels,classes):\n",
        "  import random\n",
        "\n",
        "  # pick up random one image.\n",
        "  i = random.randint(0,len(images))\n",
        "  target_image = images[i]\n",
        "  y_pred_prob = model.predict(images[i].reshape(1,28,28)) # convert to batch size as 1,x,y\n",
        "  pred_labels = classes[tf.argmax(y_pred_prob,axis=1)[0]]\n",
        "  true_labels = classes[actual_labels[i]]\n",
        "\n",
        "  plt.imshow(images[i],cmap=plt.cm.binary)\n",
        "\n",
        "  color = \"red\" if pred_labels != true_labels else \"green\"\n",
        "\n",
        "  # only show the maximum prob that will be used to categorized the sample into the predicted label\n",
        "  plt.xlabel(\"Pred:{pred_labels}, {pred_prob:2.0f}% | Actual:{true_labels}\".format(pred_labels = pred_labels,\n",
        "                                                                                 pred_prob = 100*tf.math.reduce_max(y_pred_prob),\n",
        "                                                                                 true_labels = true_labels),\n",
        "             color=color)\n"
      ]
    },
    {
      "cell_type": "code",
      "execution_count": null,
      "metadata": {
        "id": "uzA9h5HSHDK6"
      },
      "outputs": [],
      "source": [
        "def plot_random_images(model,images,actual_labels,classes,n_samples_vec=1,certain_class=None):\n",
        "  \"\"\"\n",
        "  Plot multiple images by randonmly picking up the image from data\n",
        "  and also can plot the pic with a specific class\n",
        "  \n",
        "  \"\"\"\n",
        "  \n",
        "  import random\n",
        "\n",
        "  matrix_samples = n_samples_vec**2\n",
        "\n",
        "  if certain_class and certain_class not in classes:\n",
        "    raise Exception(\"Please give a valid class define in the classes params\")\n",
        "\n",
        "  if certain_class:\n",
        "    class_names_dict = {v:k for k,v in enumerate(classes)}\n",
        "    class_id = class_names_dict.get(certain_class)\n",
        "    filter_tensor = actual_labels == class_id\n",
        "    images = images[filter_tensor]\n",
        "    actual_labels = actual_labels[filter_tensor]\n",
        "\n",
        "  plt.figure(figsize=(20,20))\n",
        "  # pick up random one image.\n",
        "  for loc in range(matrix_samples):\n",
        "    plt.subplot(n_samples_vec,n_samples_vec,loc+1)\n",
        "    \n",
        "    i = random.randint(0,len(images))\n",
        "    target_image = images[i]\n",
        "    y_pred_prob = softmax(model.predict(target_image.reshape(1,28,28))) # convert to batch size as 1,x,y\n",
        "    pred_labels = classes[tf.argmax(y_pred_prob,axis=1)[0]]\n",
        "    true_labels = classes[actual_labels[i]]\n",
        " \n",
        "\n",
        "    plt.xticks([])\n",
        "    plt.yticks([])\n",
        "    plt.grid(False)\n",
        "    plt.imshow(target_image,cmap=plt.cm.binary)\n",
        "    \n",
        "   \n",
        "    color = \"red\" if pred_labels != true_labels else \"green\"\n",
        "\n",
        "    # only show the maximum prob that will be used to categorized the sample into the predicted label\n",
        "    plt.xlabel(\"Pred:{pred_labels}, {pred_prob:2.0f}% | Actual:{true_labels}\".format(pred_labels = pred_labels,\n",
        "                                                                                  pred_prob = 100*tf.math.reduce_max(y_pred_prob),\n",
        "                                                                                  true_labels = true_labels),\n",
        "              color=color)\n",
        "  plt.show()\n"
      ]
    },
    {
      "cell_type": "markdown",
      "metadata": {
        "id": "RZOkxpTbF8Lv"
      },
      "source": [
        "### Convolution NN Model "
      ]
    },
    {
      "cell_type": "code",
      "execution_count": null,
      "metadata": {
        "id": "qB8s-7SJDWFQ"
      },
      "outputs": [],
      "source": [
        "# random pickup a image and check\n",
        "import pathlib\n",
        "import random\n",
        "\n",
        "def view_random_image(target_dir,target_class):\n",
        "  target_folder = target_dir + \"/\" + target_class\n",
        "  random_image = random.sample(os.listdir(target_folder),1)\n",
        "  print(random_image)\n",
        "\n",
        "  # convert the image to numerical data\n",
        "  img = mpimg.imread(target_folder+\"/\"+random_image[0])\n",
        "  plt.imshow(img)\n",
        "  plt.title(target_class)\n",
        "  plt.axis(\"off\")\n",
        "\n",
        "  print(f\"Image shape:{img.shape}\")\n",
        "\n",
        "  return img"
      ]
    },
    {
      "cell_type": "code",
      "execution_count": null,
      "metadata": {
        "id": "l-KaxVD5GGCu"
      },
      "outputs": [],
      "source": [
        "def plot_loss_curve(history):\n",
        "  loss = history.history[\"loss\"] # train loss\n",
        "  val_loss = history.history[\"val_loss\"] # val loss\n",
        "  accuracy = history.history[\"accuracy\"] # train accuracy\n",
        "  val_accuracy = history.history[\"val_accuracy\"] # test accuracy\n",
        "\n",
        "  epochs = range(len(loss))\n",
        "  epochs = list(map(lambda x:int(x+1),epochs))\n",
        "\n",
        "  plt.plot(epochs,loss,label=\"training_loss\")\n",
        "  plt.plot(epochs,val_loss,label=\"validation_loss\")\n",
        "  plt.title(\"loss\")\n",
        "  plt.xlabel(\"epochs\")\n",
        "  plt.xticks(epochs)\n",
        "  plt.legend()\n",
        "  plt.show()\n",
        "\n",
        "  plt.plot(epochs,accuracy,label=\"training_acc\")\n",
        "  plt.plot(epochs,val_accuracy,label=\"validation_acc\")\n",
        "  plt.title(\"accuracy\")\n",
        "  plt.xlabel(\"epochs\")\n",
        "  plt.xticks(epochs)\n",
        "  plt.legend()"
      ]
    },
    {
      "cell_type": "code",
      "execution_count": null,
      "metadata": {
        "id": "LjBg4GiqGF-c"
      },
      "outputs": [],
      "source": [
        "# processing the unknown dataset so that it can be fit to the models' acceptable input format\n",
        "def load_and_prep_image(filename,img_shape=224):\n",
        "  \"\"\"\n",
        "  reads image and turn it into the tensor and reshape it\n",
        "  \"\"\"\n",
        "  img = tf.io.read_file(filename)\n",
        "\n",
        "  img = tf.image.decode_image(img)\n",
        "\n",
        "  # why don't we define color channel because when decode the image or read file using tf, the channel has been read.\n",
        "  img = tf.image.resize(img,[img_shape,img_shape])\n",
        "\n",
        "  img = img * 1./255\n",
        "\n",
        "  return img\n",
        "\n",
        "def pred_and_plot(model,filename,class_names):\n",
        "  img = load_and_prep_image(filename,img_shape=224)\n",
        "\n",
        "  pred = model.predict(tf.expand_dims(img,axis=0))\n",
        "\n",
        "  ind = int(np.round(pred))\n",
        "\n",
        "  pred_class = class_names[ind]\n",
        "\n",
        "  plt.imshow(img)\n",
        "  plt.title(f\"Prediction: {pred_class}, prob.:{pred.ravel()[0]*100:.2f}%\")"
      ]
    },
    {
      "cell_type": "markdown",
      "metadata": {
        "id": "Ikw9_R3S_Nnl"
      },
      "source": [
        "### Transfer Learning - Feature Extraction"
      ]
    },
    {
      "cell_type": "code",
      "execution_count": null,
      "metadata": {
        "id": "SnzdBKxh_WiO"
      },
      "outputs": [],
      "source": [
        "### 1. Set up Tracking experiments\n",
        "def create_tensorboard_callback(dir_name,experiment_name):\n",
        "  dir = dir_name+\"/\"+experiment_name+\"/\" + dt.datetime.now().strftime(\"%Y%m%d_%H%M%S\")\n",
        "  tensorboard_callback = tf.keras.callbacks.TensorBoard(log_dir = dir)\n",
        "  print(f\"Generate Folder {dir} for tracking exp\")\n",
        "  return tensorboard_callback\n",
        "\n",
        "\n",
        "def create_model(model_url, num_classes=10):\n",
        "  global IMG_SIZE\n",
        "  \"\"\"\n",
        "  take a tensorflow hub model to create keras Sequential Model\n",
        "  Args:\n",
        "    model_url (str): model url from tensorflow hub\n",
        "    num_classes: the number of target classes default is 10\n",
        "  Returns:\n",
        "    Return hub model with num_classes neurons in the output layer\n",
        "  \"\"\"\n",
        "  # like the combine all layers from the hub model into one composite layer\n",
        "  model = tf.keras.Sequential([\n",
        "    hub.KerasLayer(model_url,\n",
        "                   trainable=False, # it meas this layer won't have any trainable params \n",
        "                  # if switch to True, then might need to more time to train this pre-trained model\n",
        "                   name=\"feature_extraction_layer\",\n",
        "                   input_shape = IMG_SIZE+(3,)),  # Can be True, see below.\n",
        "    tf.keras.layers.Dense(num_classes, activation='softmax',name=\"output_layer\")\n",
        "  ])\n",
        "\n",
        "  return model\n"
      ]
    },
    {
      "cell_type": "markdown",
      "metadata": {
        "id": "RvXAKgSxPgxT"
      },
      "source": [
        "### Transfer Learning - Fine Tuning"
      ]
    },
    {
      "cell_type": "code",
      "execution_count": null,
      "metadata": {
        "id": "3nIl8EOT_XAg"
      },
      "outputs": [],
      "source": [
        "def predict_plot_image(model,class_names):\n",
        "  import random\n",
        "  for images,labels in test_data.take(1):\n",
        "    imgs = images\n",
        "    labls = labels\n",
        "\n",
        "  class_names = test_data.class_names\n",
        "  choice = random.choice(range(len(imgs)))\n",
        "  random_image = images[choice]/255.\n",
        "  actual_label = class_names[np.argmax(labls[choice])]\n",
        "  ind_argmax = tf.argmax(model_0.predict(tf.expand_dims(random_image,axis=0)),axis=1)\n",
        "  predict_label = class_names[tf.squeeze(ind_argmax)]\n",
        "  color = \"red\" if actual_label != predict_label else \"green\"\n",
        "\n",
        "  plt.figure(figsize=(12,9))\n",
        "  plt.imshow(random_image)\n",
        "  plt.title(f\"Predicted Label {predict_label}; Actual Label: {actual_label}\",c=color)\n",
        "  plt.axis(False)\n",
        "\n",
        "# fine tuning\n",
        "def load_and_prep_image(filename, img_shape=224, scale=True):\n",
        "\n",
        "  # convert file to 0-d string tensor\n",
        "  img = tf.io.read_file(filename)\n",
        "  # convert the img to tensor\n",
        "  img = tf.io.decode_image(img,channels = 3)\n",
        "\n",
        "  # resize to fit the input\n",
        "  img = tf.image.resize(img,[img_shape,img_shape])\n",
        "\n",
        "  # rescale if need\n",
        "  img = img/255. if scale else img\n",
        "\n",
        "  return img\n",
        "\n",
        "def autolabel(bar_plot):\n",
        "    for idx,rect in enumerate(bar_plot):\n",
        "        val = f1_score_list[idx]\n",
        "        ax.text(0.01, idx+.25, f\"{val*100:.4f}%\", color = 'black',)"
      ]
    },
    {
      "cell_type": "markdown",
      "metadata": {
        "id": "OEleD2ntPmp6"
      },
      "source": [
        "### Food Vision 101"
      ]
    },
    {
      "cell_type": "code",
      "execution_count": null,
      "metadata": {
        "id": "h1S97YWtPlrx"
      },
      "outputs": [],
      "source": [
        "\n",
        "# Food Vision 101\n",
        "def preprocess_image(image,label,img_shape=224):\n",
        "  img = tf.image.resize(image,size = [img_shape,img_shape])\n",
        "  return tf.cast(img,tf.float32),label"
      ]
    },
    {
      "cell_type": "markdown",
      "metadata": {
        "id": "6JtmovN2Pu9B"
      },
      "source": [
        "### NLP"
      ]
    },
    {
      "cell_type": "code",
      "execution_count": null,
      "metadata": {
        "id": "2cZ0ElLtPull"
      },
      "outputs": [],
      "source": [
        "def pred_timer(model,samples):\n",
        "  import time\n",
        "  start_time = time.perf_counter()\n",
        "  model.predict(samples)\n",
        "  end_time = time.perf_counter()\n",
        "  total_time = end_time-start_time\n",
        "  return total_time,total_time/len(samples),len(samples)\n",
        "\n",
        "def calculate_result(y_true,y_pred):\n",
        "  acc = accuracy_score(y_true=y_true,y_pred=y_pred)\n",
        "\n",
        "  #precision,recall,f1_score,support\n",
        "  precision,recall,f1_score,_ = precision_recall_fscore_support(y_true,y_pred,average=\"weighted\")\n",
        "\n",
        "  metrics = {\n",
        "      \"acc\":acc * 100,\n",
        "      \"precision\": precision,\n",
        "      \"recall\": recall,\n",
        "      \"f1_score\": f1_score\n",
        "\n",
        "  }\n",
        "\n",
        "  return metrics"
      ]
    },
    {
      "cell_type": "markdown",
      "metadata": {
        "id": "WMz3ERymFMs8"
      },
      "source": [
        "### Skimlit"
      ]
    },
    {
      "cell_type": "code",
      "execution_count": null,
      "metadata": {
        "id": "OxG8EV2BPw4z"
      },
      "outputs": [],
      "source": [
        "def get_lines(filename):\n",
        "  lines = []\n",
        "  with open(filename,\"r\") as f:\n",
        "    lines = f.readlines()\n",
        "  return lines\n",
        "\n",
        "def preprocess_text_with_line_numbers(filename):\n",
        "  input_lines = get_lines(filename)\n",
        "  abstract_id = \"\"\n",
        "  abstract_line = \"\"\n",
        "  abstract_samples = []\n",
        "\n",
        "  for line in input_lines:\n",
        "    if line.startswith(\"###\"):\n",
        "      abstract_id = line.replace(\"###\",\"\").replace(\"\\n\",\"\")\n",
        "      abstract_line = \"\" # emtpy the abstract line for each group\n",
        "    elif line.isspace(): # only contain \\n. then record the data in thie gorup with ID\n",
        "      abstract_line_list = abstract_line.splitlines()\n",
        "\n",
        "      for line_num, abstract_line in enumerate(abstract_line_list):\n",
        "        data = {}\n",
        "        data[\"line_num\"] = line_num\n",
        "        data[\"target\"] = abstract_line.split(\"\\t\")[0]\n",
        "        data[\"text\"] = abstract_line.split(\"\\t\")[1].lower()\n",
        "        data[\"total_lines\"] = len(abstract_line_list) - 1 # line numbers is count with index 0\n",
        "        data[\"ID\"] = abstract_id \n",
        "        abstract_samples.append(data)\n",
        "    \n",
        "    else:\n",
        "      abstract_line+=line\n",
        "  \n",
        "  return abstract_samples"
      ]
    },
    {
      "cell_type": "markdown",
      "metadata": {
        "id": "76XdALTHAeug"
      },
      "source": [
        "### TimeSeries"
      ]
    },
    {
      "cell_type": "code",
      "execution_count": null,
      "metadata": {
        "id": "iI4LNI0PywuW"
      },
      "outputs": [],
      "source": [
        "def mean_absolute_scaled_error(y_true,y_pred):\n",
        "  mae = tf.math.reduce_mean(tf.abs(y_true - y_pred))\n",
        "  naive_mae = tf.math.reduce_mean(tf.abs(y_true[1:] - y_true[:-1]))\n",
        "  return mae / naive_mae\n",
        "\n",
        "def plot_timeseries_data(timestamp,values,format=\".\",start=0,end=None,label=None):\n",
        "  \"\"\"\n",
        "  Plot timeseries data with label\n",
        "\n",
        "  Parameters:\n",
        "  --------------\n",
        "  timestamp: the array of timestamps\n",
        "  values: the array of values across timestamps\n",
        "  format: the style of format\n",
        "  start: start ind of timestamp/value\n",
        "  end: end ind of timestamp/value\n",
        "  label: the label for the plot\n",
        "  \"\"\"\n",
        "\n",
        "  plt.plot(timestamp[start:end],values[start:end],format,label=label)\n",
        "  plt.title(\"BTC Closing Price Trend within 8 years data\")\n",
        "  plt.xlabel(\"Day\")\n",
        "  plt.ylabel(\"Price\")\n",
        "  if label:\n",
        "    plt.legend()\n",
        "  plt.grid(True)\n",
        "\n",
        "def evaluate_preds(y_true,y_pred):\n",
        "  \"\"\"\n",
        "  Description:\n",
        "  ------------------\n",
        "  General calculation for metrics. if there is over 1 axis for the actual/prediction label\n",
        "  reduce to scaler value with average aggregation performed.\n",
        "  \"\"\"\n",
        "  y_true = tf.cast(y_true,dtype=tf.dtypes.float64)\n",
        "  y_pred = tf.cast(y_pred,dtype=tf.dtypes.float64)\n",
        "\n",
        "  mae = tf.keras.metrics.mean_absolute_error(y_true,y_pred)\n",
        "  mse = tf.keras.metrics.mean_squared_error(y_true,y_pred)\n",
        "  rmse = np.sqrt(tf.keras.metrics.mean_squared_error(y_true,y_pred))\n",
        "  mape = tf.keras.metrics.mean_absolute_percentage_error(y_true,y_pred)\n",
        "  mase = mean_absolute_scaled_error(y_true,y_pred)\n",
        "\n",
        "  if y_true.ndim > 1 or len(y_pred.shape) > 1 : # reduce higher axis to scaler\n",
        "    mae = tf.reduce_mean(mae)\n",
        "    mse = tf.reduce_mean(mse)\n",
        "    rmse = tf.reduce_mean(rmse).numpy()\n",
        "    mape = tf.reduce_mean(mape)\n",
        "    mase = tf.reduce_mean(mase)\n",
        "                          \n",
        "\n",
        "  return {\n",
        "      \"mae\": mae.numpy(),\n",
        "      \"mse\": mse.numpy(),\n",
        "      \"rmse\": rmse,\n",
        "      \"mape\": mape.numpy(),\n",
        "      \"mase\": mase.numpy()\n",
        "  }\n",
        "  \n",
        "# can follow the iinput/output pattern from sklearn.model_selection.train_test_split\n",
        "def make_train_test_split(windows,labels,test_split=0.2):\n",
        "  split_ind = int((1-test_split)*len(windows))\n",
        "  train_windows,train_labels = windows[:split_ind],labels[:split_ind]\n",
        "  test_windows,test_labels = windows[split_ind:],labels[split_ind:]\n",
        "  return train_windows,train_labels,test_windows,test_labels\n",
        "## Model checkpooint\n",
        "import os\n",
        "def make_model_checkpoint(model_name,save_path=\"model_experiments\"):\n",
        "  return tf.keras.callbacks.ModelCheckpoint(filepath=os.path.join(model_name,save_path),\n",
        "                                                      verbose=0,\n",
        "                                                      save_best_only=True,)\n",
        "def make_preds(model,input):\n",
        "  return tf.squeeze(model.predict(input))\n",
        "# numpy operation is faster\n",
        "def create_windows(data,window_size = 7,horizon = 1):\n",
        "  \n",
        "  # the index you want to access the data for each window\n",
        "  windows_step = np.arange(window_size+horizon)\n",
        "\n",
        "  # index matrix : determine how many windows there\n",
        "  # perform element-wise operation \n",
        "  windows_indexs =  tf.expand_dims(np.arange(len(data)-(window_size+horizon)+1),axis=1) + windows_step\n",
        "\n",
        "\n",
        "  # access the data\n",
        "  x = data[windows_indexs]\n",
        "\n",
        "  windows_data,horizon_label = get_labelled_windows(x,horizon)\n",
        "\n",
        "  return windows_data,horizon_label\n",
        "WINDOW_SIZE = 7\n",
        "HORIZON_SIZE = 1\n",
        "def get_labelled_windows(data,HORIZON_SIZE = 1):\n",
        "  \"\"\"\n",
        "  Parameters:\n",
        "  ----------------\n",
        "  data: should be two dimension matrix\n",
        "\n",
        "  Returns:\n",
        "  ----------------\n",
        "  Return window data for input, horizon data for output\n",
        "  \"\"\"\n",
        " \n",
        "  return data[:,:-1*HORIZON_SIZE], data[:,-1*HORIZON_SIZE:]\n"
      ]
    },
    {
      "cell_type": "code",
      "execution_count": null,
      "metadata": {
        "id": "5NOX2jcDA4yw"
      },
      "outputs": [],
      "source": [
        "def get_ensemble_model(train_data,\n",
        "                        test_data,\n",
        "                        horizon = 1,\n",
        "                        num_iters = 10,\n",
        "                        epochs=1000,\n",
        "                        loss_func = [\"mae\",\"mse\",\"mape\"]):\n",
        "  \"\"\"\n",
        "  30 models in total: 10 * 3 kind of loss function with same model\n",
        "  \"\"\"\n",
        "  ensemble_model = []\n",
        "  for i in range(num_iters):\n",
        "    for loss_fn in loss_func:\n",
        "      print(f\"Model-{i} with loss_func:{loss_fn} for epochs {epochs}\")\n",
        "    \n",
        "      model = tf.keras.Sequential([\n",
        "          tf.keras.layers.Dense(128,kernel_initializer=\"he_normal\",activation=\"relu\"),\n",
        "          tf.keras.layers.Dense(128,kernel_initializer=\"he_normal\",activation=\"relu\"),\n",
        "          tf.keras.layers.Dense(horizon) # no need activation function, cause right not is to forcast a value not predict a category\n",
        "      ])\n",
        "\n",
        "      model.compile(loss=loss_fn,\n",
        "                    optimizer=tf.keras.optimizers.Adam(),\n",
        "                    metrics=[\"mae\",\"mse\"])\n",
        "      \n",
        "      model.fit(train_data,\n",
        "                epochs = epochs,\n",
        "                validation_data = test_data,\n",
        "                verbose=0,\n",
        "                callbacks=[tf.keras.callbacks.ReduceLROnPlateau(monitor=\"val_loss\",patience=100,verbose=1),\n",
        "                           tf.keras.callbacks.EarlyStopping(monitor=\"val_loss\",patience=200,restore_best_weights=True)])\n",
        "      \n",
        "      ensemble_model.append(model)\n",
        "  return ensemble_model\n",
        "\n",
        "\n",
        "def make_ensemble_preds(models,data):\n",
        "  # 1*15*556 and remove 1\n",
        "  ensemble_preds = []\n",
        "  for m in models:\n",
        "    ensemble_pred = make_preds(m,data)\n",
        "    ensemble_preds.append(ensemble_pred)\n",
        "  return tf.constant(tf.squeeze(ensemble_preds))\n",
        "\n",
        "def get_pred_interval(preds):\n",
        "  pred_mean = tf.reduce_mean(preds,axis=0) # get mean on each timestamp\n",
        "\n",
        "  # assume the dist for each timestamp is normal distribution\n",
        "  # +-1.96 std will include 95% confidence interval \n",
        "  pred_std_95 = 1.96*tf.math.reduce_std(preds, axis=0)\n",
        "\n",
        "  lower,upper = pred_mean - pred_std_95, pred_mean + pred_std_95\n",
        "  \n",
        "  return lower,upper\n",
        "\n",
        "  "
      ]
    },
    {
      "cell_type": "markdown",
      "metadata": {
        "id": "4s9lNpLWLdan"
      },
      "source": [
        "# Exam"
      ]
    },
    {
      "cell_type": "markdown",
      "metadata": {
        "id": "ooNQeioGRFaQ"
      },
      "source": [
        "### 2. Fashion Mnist (5/5) but need to check"
      ]
    },
    {
      "cell_type": "code",
      "execution_count": null,
      "metadata": {
        "id": "Xx37A9Ksy4_Z"
      },
      "outputs": [],
      "source": [
        "fashion_mnist = tf.keras.datasets.fashion_mnist"
      ]
    },
    {
      "cell_type": "code",
      "execution_count": null,
      "metadata": {
        "id": "Z59F8p9dRJ0L"
      },
      "outputs": [],
      "source": [
        "(X_train,y_train),(X_test,y_test) = fashion_mnist.load_data()"
      ]
    },
    {
      "cell_type": "code",
      "execution_count": null,
      "metadata": {
        "id": "pPeup07QRH7q"
      },
      "outputs": [],
      "source": [
        "X_train = X_train/255.\n",
        "X_test = X_test/255."
      ]
    },
    {
      "cell_type": "code",
      "execution_count": null,
      "metadata": {
        "colab": {
          "base_uri": "https://localhost:8080/"
        },
        "id": "x-UU5lc6THpW",
        "outputId": "7a12ccb6-492f-483b-9a06-442fc18202af"
      },
      "outputs": [
        {
          "data": {
            "text/plain": [
              "(60000,)"
            ]
          },
          "execution_count": 43,
          "metadata": {},
          "output_type": "execute_result"
        }
      ],
      "source": [
        "y_train.shape"
      ]
    },
    {
      "cell_type": "code",
      "execution_count": null,
      "metadata": {
        "id": "PSwWj6OZSW2n"
      },
      "outputs": [],
      "source": [
        "inputs = tf.keras.layers.Input(shape=(28,28))\n",
        "x = tf.expand_dims(inputs,axis=-1)\n",
        "x = tf.keras.layers.Conv2D(32, (3,3), activation='relu')(x)\n",
        "x = tf.keras.layers.MaxPooling2D(2, 2)(x)\n",
        "x = tf.keras.layers.Flatten()(x)\n",
        "x = tf.keras.layers.Dense(128, activation='relu')(x)\n",
        "outputs = tf.keras.layers.Dense(10, activation='softmax')(x)"
      ]
    },
    {
      "cell_type": "code",
      "execution_count": null,
      "metadata": {
        "id": "YQLR2Oj-S1Qh"
      },
      "outputs": [],
      "source": [
        "model = tf.keras.Model(inputs,outputs)"
      ]
    },
    {
      "cell_type": "code",
      "execution_count": null,
      "metadata": {
        "colab": {
          "base_uri": "https://localhost:8080/",
          "height": 754
        },
        "id": "mk6eM5D4TAG5",
        "outputId": "50b90b27-7c70-4635-e267-ccb0c0f613ec"
      },
      "outputs": [
        {
          "data": {
            "image/png": "[encoded data removed]",
            "text/plain": [
              "<IPython.core.display.Image object>"
            ]
          },
          "execution_count": 61,
          "metadata": {},
          "output_type": "execute_result"
        }
      ],
      "source": [
        "plot_model(model,show_shapes=True)"
      ]
    },
    {
      "cell_type": "code",
      "execution_count": null,
      "metadata": {
        "id": "p51jvC0dSuRk"
      },
      "outputs": [],
      "source": [
        "model.compile(loss = tf.keras.losses.SparseCategoricalCrossentropy(),\n",
        "              optimizer = tf.keras.optimizers.Adam(),\n",
        "              metrics = [\"accuracy\"])"
      ]
    },
    {
      "cell_type": "code",
      "execution_count": null,
      "metadata": {
        "colab": {
          "base_uri": "https://localhost:8080/"
        },
        "id": "lUfgI30qR20L",
        "outputId": "a9f196d6-20f4-42e5-bf6f-88a3c90d5813"
      },
      "outputs": [
        {
          "name": "stdout",
          "output_type": "stream",
          "text": [
            "Epoch 1/20\n",
            "1875/1875 [==============================] - 6s 3ms/step - loss: 0.3926 - accuracy: 0.8626 - val_loss: 0.3314 - val_accuracy: 0.8781\n",
            "Epoch 2/20\n",
            "1875/1875 [==============================] - 6s 3ms/step - loss: 0.2676 - accuracy: 0.9039 - val_loss: 0.2844 - val_accuracy: 0.8940\n",
            "Epoch 3/20\n",
            "1875/1875 [==============================] - 6s 3ms/step - loss: 0.2206 - accuracy: 0.9188 - val_loss: 0.2837 - val_accuracy: 0.8964\n",
            "Epoch 4/20\n",
            "1875/1875 [==============================] - 6s 3ms/step - loss: 0.1888 - accuracy: 0.9305 - val_loss: 0.2501 - val_accuracy: 0.9047\n",
            "Epoch 5/20\n",
            "1875/1875 [==============================] - 6s 3ms/step - loss: 0.1618 - accuracy: 0.9405 - val_loss: 0.2367 - val_accuracy: 0.9172\n",
            "Epoch 6/20\n",
            "1875/1875 [==============================] - 6s 3ms/step - loss: 0.1394 - accuracy: 0.9485 - val_loss: 0.2686 - val_accuracy: 0.9095\n",
            "Epoch 7/20\n",
            "1875/1875 [==============================] - 5s 3ms/step - loss: 0.1157 - accuracy: 0.9574 - val_loss: 0.2590 - val_accuracy: 0.9135\n",
            "Epoch 8/20\n",
            "1875/1875 [==============================] - 6s 3ms/step - loss: 0.1006 - accuracy: 0.9635 - val_loss: 0.2801 - val_accuracy: 0.9160\n",
            "Epoch 9/20\n",
            "1875/1875 [==============================] - 6s 3ms/step - loss: 0.0843 - accuracy: 0.9695 - val_loss: 0.3002 - val_accuracy: 0.9176\n",
            "Epoch 10/20\n",
            "1875/1875 [==============================] - 5s 3ms/step - loss: 0.0735 - accuracy: 0.9732 - val_loss: 0.3093 - val_accuracy: 0.9163\n",
            "Epoch 11/20\n",
            "1875/1875 [==============================] - 5s 3ms/step - loss: 0.0635 - accuracy: 0.9768 - val_loss: 0.3286 - val_accuracy: 0.9185\n",
            "Epoch 12/20\n",
            "1875/1875 [==============================] - 6s 3ms/step - loss: 0.0530 - accuracy: 0.9807 - val_loss: 0.3551 - val_accuracy: 0.9160\n",
            "Epoch 13/20\n",
            "1875/1875 [==============================] - 6s 3ms/step - loss: 0.0483 - accuracy: 0.9825 - val_loss: 0.3809 - val_accuracy: 0.9133\n",
            "Epoch 14/20\n",
            "1875/1875 [==============================] - 6s 3ms/step - loss: 0.0411 - accuracy: 0.9850 - val_loss: 0.3953 - val_accuracy: 0.9159\n",
            "Epoch 15/20\n",
            "1875/1875 [==============================] - 6s 3ms/step - loss: 0.0364 - accuracy: 0.9871 - val_loss: 0.4165 - val_accuracy: 0.9127\n",
            "Epoch 16/20\n",
            "1875/1875 [==============================] - 6s 3ms/step - loss: 0.0331 - accuracy: 0.9882 - val_loss: 0.4492 - val_accuracy: 0.9142\n",
            "Epoch 17/20\n",
            "1875/1875 [==============================] - 6s 3ms/step - loss: 0.0269 - accuracy: 0.9902 - val_loss: 0.4956 - val_accuracy: 0.9129\n",
            "Epoch 18/20\n",
            "1875/1875 [==============================] - 5s 3ms/step - loss: 0.0258 - accuracy: 0.9910 - val_loss: 0.4940 - val_accuracy: 0.9118\n",
            "Epoch 19/20\n",
            "1875/1875 [==============================] - 6s 3ms/step - loss: 0.0255 - accuracy: 0.9911 - val_loss: 0.4960 - val_accuracy: 0.9165\n",
            "Epoch 20/20\n",
            "1875/1875 [==============================] - 6s 3ms/step - loss: 0.0235 - accuracy: 0.9920 - val_loss: 0.5193 - val_accuracy: 0.9100\n"
          ]
        }
      ],
      "source": [
        "history = model.fit(X_train,\n",
        "                    y_train,\n",
        "                    epochs = 20,\n",
        "                    validation_data = (X_test,y_test))"
      ]
    },
    {
      "cell_type": "code",
      "execution_count": null,
      "metadata": {
        "id": "IJ6EFpQaTfuN"
      },
      "outputs": [],
      "source": [
        "model.save(\"cnn.h5\")"
      ]
    },
    {
      "cell_type": "code",
      "execution_count": null,
      "metadata": {
        "colab": {
          "base_uri": "https://localhost:8080/",
          "height": 17
        },
        "id": "T1GjrtHuS8Pg",
        "outputId": "11b1634a-4743-4d89-d34b-f145ce0846e2"
      },
      "outputs": [
        {
          "data": {
            "application/javascript": [
              "\n",
              "    async function download(id, filename, size) {\n",
              "      if (!google.colab.kernel.accessAllowed) {\n",
              "        return;\n",
              "      }\n",
              "      const div = document.createElement('div');\n",
              "      const label = document.createElement('label');\n",
              "      label.textContent = `Downloading \"${filename}\": `;\n",
              "      div.appendChild(label);\n",
              "      const progress = document.createElement('progress');\n",
              "      progress.max = size;\n",
              "      div.appendChild(progress);\n",
              "      document.body.appendChild(div);\n",
              "\n",
              "      const buffers = [];\n",
              "      let downloaded = 0;\n",
              "\n",
              "      const channel = await google.colab.kernel.comms.open(id);\n",
              "      // Send a message to notify the kernel that we're ready.\n",
              "      channel.send({})\n",
              "\n",
              "      for await (const message of channel.messages) {\n",
              "        // Send a message to notify the kernel that we're ready.\n",
              "        channel.send({})\n",
              "        if (message.buffers) {\n",
              "          for (const buffer of message.buffers) {\n",
              "            buffers.push(buffer);\n",
              "            downloaded += buffer.byteLength;\n",
              "            progress.value = downloaded;\n",
              "          }\n",
              "        }\n",
              "      }\n",
              "      const blob = new Blob(buffers, {type: 'application/binary'});\n",
              "      const a = document.createElement('a');\n",
              "      a.href = window.URL.createObjectURL(blob);\n",
              "      a.download = filename;\n",
              "      div.appendChild(a);\n",
              "      a.click();\n",
              "      div.remove();\n",
              "    }\n",
              "  "
            ],
            "text/plain": [
              "<IPython.core.display.Javascript object>"
            ]
          },
          "metadata": {},
          "output_type": "display_data"
        },
        {
          "data": {
            "application/javascript": [
              "download(\"download_77766ea0-5ff5-4c1d-a3f0-3818136c62ca\", \"cnn.h5\", 8368264)"
            ],
            "text/plain": [
              "<IPython.core.display.Javascript object>"
            ]
          },
          "metadata": {},
          "output_type": "display_data"
        }
      ],
      "source": [
        "from google.colab import files\n",
        "files.download(\"cnn.h5\")"
      ]
    },
    {
      "cell_type": "markdown",
      "metadata": {
        "id": "K3Oxl4q6WDWY"
      },
      "source": [
        "### Category 3"
      ]
    },
    {
      "cell_type": "code",
      "execution_count": null,
      "metadata": {
        "id": "d6l-rKq6Wooj"
      },
      "outputs": [],
      "source": [
        "import tensorflow as tf\n",
        "import urllib\n",
        "import zipfile\n",
        "from tensorflow.keras.preprocessing.image import ImageDataGenerator"
      ]
    },
    {
      "cell_type": "code",
      "execution_count": null,
      "metadata": {
        "id": "08CuE8COWnZa"
      },
      "outputs": [],
      "source": [
        "_TRAIN_URL = \"https://storage.googleapis.com/download.tensorflow.org/data/horse-or-human.zip\"\n",
        "_TEST_URL = \"https://storage.googleapis.com/download.tensorflow.org/data/validation-horse-or-human.zip\"\n",
        "urllib.request.urlretrieve(_TRAIN_URL, 'horse-or-human.zip')\n",
        "local_zip = 'horse-or-human.zip'\n",
        "zip_ref = zipfile.ZipFile(local_zip, 'r')\n",
        "zip_ref.extractall('tmp/horse-or-human/')\n",
        "zip_ref.close()\n",
        "urllib.request.urlretrieve(_TEST_URL, 'testdata.zip')\n",
        "local_zip = 'testdata.zip'\n",
        "zip_ref = zipfile.ZipFile(local_zip, 'r')\n",
        "zip_ref.extractall('tmp/testdata/')\n",
        "zip_ref.close()"
      ]
    },
    {
      "cell_type": "code",
      "execution_count": null,
      "metadata": {
        "colab": {
          "base_uri": "https://localhost:8080/"
        },
        "id": "zLhgUtWiWuju",
        "outputId": "6889d569-ed75-4703-c141-bbd5e1cc6c24"
      },
      "outputs": [
        {
          "name": "stdout",
          "output_type": "stream",
          "text": [
            "total 40\n",
            "drwxr-xr-x 2 root root 20480 Jul 29 23:46 horses\n",
            "drwxr-xr-x 2 root root 20480 Jul 29 23:46 humans\n"
          ]
        }
      ],
      "source": [
        "!ls -ltr tmp/horse-or-human/"
      ]
    },
    {
      "cell_type": "code",
      "execution_count": null,
      "metadata": {
        "id": "IXUd1sxUW9mN"
      },
      "outputs": [],
      "source": [
        "train_dir = \"tmp/horse-or-human/\"\n",
        "test_dir = \"tmp/testdata/\""
      ]
    },
    {
      "cell_type": "code",
      "execution_count": null,
      "metadata": {
        "id": "mV6_7ZbbTjz3"
      },
      "outputs": [],
      "source": [
        "train_datagen = ImageDataGenerator(\n",
        " rescale = 1/255.,\n",
        "  rotation_range=20, # rotate the image slightly between 0 and 20 degrees (note: this is an int not a float)\n",
        "  shear_range=0.2, # shear the image\n",
        "  zoom_range=0.2, # zoom into the image\n",
        "  width_shift_range=0.2, # shift the image width ways\n",
        "  height_shift_range=0.2, # shift the image height ways\n",
        "  horizontal_flip=True     \n",
        ")\n",
        "\n",
        "validation_datagen = ImageDataGenerator(rescale=1/255.)"
      ]
    },
    {
      "cell_type": "code",
      "execution_count": null,
      "metadata": {
        "colab": {
          "base_uri": "https://localhost:8080/"
        },
        "id": "XH3yLgsuX4oj",
        "outputId": "096dd180-dd54-4b76-ab42-5c2109e30596"
      },
      "outputs": [
        {
          "name": "stdout",
          "output_type": "stream",
          "text": [
            "Found 1027 images belonging to 2 classes.\n",
            "Found 256 images belonging to 2 classes.\n"
          ]
        }
      ],
      "source": [
        "train_generator = train_datagen.flow_from_directory(\n",
        "      train_dir,\n",
        "      target_size=(300, 300),\n",
        "      batch_size=32,\n",
        "      class_mode='binary'\n",
        "   )\n",
        "\n",
        "validation_generator = validation_datagen.flow_from_directory(\n",
        "    test_dir,\n",
        "    target_size=(300,300),\n",
        "    batch_size=32,\n",
        "    class_mode=\"binary\",\n",
        "    shuffle=False)\n"
      ]
    },
    {
      "cell_type": "code",
      "execution_count": null,
      "metadata": {
        "id": "4jPi6f4zXFST"
      },
      "outputs": [],
      "source": [
        "model = tf.keras.models.Sequential([\n",
        "    tf.keras.layers.Input(shape=(300,300,3)),\n",
        "    tf.keras.layers.Conv2D(16, (3, 3), activation='relu'),\n",
        "    tf.keras.layers.MaxPooling2D(2, 2),\n",
        "    tf.keras.layers.Conv2D(32, (3, 3), activation='relu'),\n",
        "    tf.keras.layers.MaxPooling2D(2, 2),\n",
        "    tf.keras.layers.Conv2D(64, (3, 3), activation='relu'),\n",
        "    tf.keras.layers.MaxPooling2D(2, 2),\n",
        "    tf.keras.layers.Flatten(),\n",
        "    tf.keras.layers.Dense(512, activation='relu'),\n",
        "    tf.keras.layers.Dense(1, activation='sigmoid')\n",
        "])\n",
        "\n",
        "model.compile(optimizer=tf.keras.optimizers.Adam(), \n",
        "              loss='binary_crossentropy', \n",
        "              metrics=['accuracy'])"
      ]
    },
    {
      "cell_type": "code",
      "execution_count": null,
      "metadata": {
        "colab": {
          "base_uri": "https://localhost:8080/",
          "height": 574
        },
        "id": "2Z3XrQ7gZR-P",
        "outputId": "850e63df-ba56-4e13-80b1-e24959c88b8a"
      },
      "outputs": [
        {
          "name": "stdout",
          "output_type": "stream",
          "text": [
            "Epoch 1/20\n",
            "33/33 [==============================] - 27s 744ms/step - loss: 1.1223 - accuracy: 0.6573 - val_loss: 1.8039 - val_accuracy: 0.5273\n",
            "Epoch 2/20\n",
            "33/33 [==============================] - 25s 769ms/step - loss: 0.4180 - accuracy: 0.8179 - val_loss: 2.6790 - val_accuracy: 0.5234\n",
            "Epoch 3/20\n",
            "33/33 [==============================] - 25s 769ms/step - loss: 0.2790 - accuracy: 0.8793 - val_loss: 3.8680 - val_accuracy: 0.5352\n",
            "Epoch 4/20\n",
            "33/33 [==============================] - 26s 778ms/step - loss: 0.2776 - accuracy: 0.8880 - val_loss: 2.1381 - val_accuracy: 0.5859\n",
            "Epoch 5/20\n",
            " 4/33 [==>...........................] - ETA: 21s - loss: 0.1290 - accuracy: 0.9609"
          ]
        },
        {
          "ename": "KeyboardInterrupt",
          "evalue": "ignored",
          "output_type": "error",
          "traceback": [
            "\u001b[0;31m---------------------------------------------------------------------------\u001b[0m",
            "\u001b[0;31mKeyboardInterrupt\u001b[0m                         Traceback (most recent call last)",
            "\u001b[0;32m<ipython-input-89-527cdcbd9558>\u001b[0m in \u001b[0;36m<module>\u001b[0;34m()\u001b[0m\n\u001b[1;32m      2\u001b[0m           \u001b[0msteps_per_epoch\u001b[0m \u001b[0;34m=\u001b[0m \u001b[0mlen\u001b[0m\u001b[0;34m(\u001b[0m\u001b[0mtrain_generator\u001b[0m\u001b[0;34m)\u001b[0m\u001b[0;34m,\u001b[0m\u001b[0;34m\u001b[0m\u001b[0;34m\u001b[0m\u001b[0m\n\u001b[1;32m      3\u001b[0m           \u001b[0mvalidation_data\u001b[0m \u001b[0;34m=\u001b[0m \u001b[0mvalidation_generator\u001b[0m\u001b[0;34m,\u001b[0m\u001b[0;34m\u001b[0m\u001b[0;34m\u001b[0m\u001b[0m\n\u001b[0;32m----> 4\u001b[0;31m           epochs=20)\n\u001b[0m",
            "\u001b[0;32m/usr/local/lib/python3.7/dist-packages/keras/utils/traceback_utils.py\u001b[0m in \u001b[0;36merror_handler\u001b[0;34m(*args, **kwargs)\u001b[0m\n\u001b[1;32m     62\u001b[0m     \u001b[0mfiltered_tb\u001b[0m \u001b[0;34m=\u001b[0m \u001b[0;32mNone\u001b[0m\u001b[0;34m\u001b[0m\u001b[0;34m\u001b[0m\u001b[0m\n\u001b[1;32m     63\u001b[0m     \u001b[0;32mtry\u001b[0m\u001b[0;34m:\u001b[0m\u001b[0;34m\u001b[0m\u001b[0;34m\u001b[0m\u001b[0m\n\u001b[0;32m---> 64\u001b[0;31m       \u001b[0;32mreturn\u001b[0m \u001b[0mfn\u001b[0m\u001b[0;34m(\u001b[0m\u001b[0;34m*\u001b[0m\u001b[0margs\u001b[0m\u001b[0;34m,\u001b[0m \u001b[0;34m**\u001b[0m\u001b[0mkwargs\u001b[0m\u001b[0;34m)\u001b[0m\u001b[0;34m\u001b[0m\u001b[0;34m\u001b[0m\u001b[0m\n\u001b[0m\u001b[1;32m     65\u001b[0m     \u001b[0;32mexcept\u001b[0m \u001b[0mException\u001b[0m \u001b[0;32mas\u001b[0m \u001b[0me\u001b[0m\u001b[0;34m:\u001b[0m  \u001b[0;31m# pylint: disable=broad-except\u001b[0m\u001b[0;34m\u001b[0m\u001b[0;34m\u001b[0m\u001b[0m\n\u001b[1;32m     66\u001b[0m       \u001b[0mfiltered_tb\u001b[0m \u001b[0;34m=\u001b[0m \u001b[0m_process_traceback_frames\u001b[0m\u001b[0;34m(\u001b[0m\u001b[0me\u001b[0m\u001b[0;34m.\u001b[0m\u001b[0m__traceback__\u001b[0m\u001b[0;34m)\u001b[0m\u001b[0;34m\u001b[0m\u001b[0;34m\u001b[0m\u001b[0m\n",
            "\u001b[0;32m/usr/local/lib/python3.7/dist-packages/keras/engine/training.py\u001b[0m in \u001b[0;36mfit\u001b[0;34m(self, x, y, batch_size, epochs, verbose, callbacks, validation_split, validation_data, shuffle, class_weight, sample_weight, initial_epoch, steps_per_epoch, validation_steps, validation_batch_size, validation_freq, max_queue_size, workers, use_multiprocessing)\u001b[0m\n\u001b[1;32m   1382\u001b[0m                 _r=1):\n\u001b[1;32m   1383\u001b[0m               \u001b[0mcallbacks\u001b[0m\u001b[0;34m.\u001b[0m\u001b[0mon_train_batch_begin\u001b[0m\u001b[0;34m(\u001b[0m\u001b[0mstep\u001b[0m\u001b[0;34m)\u001b[0m\u001b[0;34m\u001b[0m\u001b[0;34m\u001b[0m\u001b[0m\n\u001b[0;32m-> 1384\u001b[0;31m               \u001b[0mtmp_logs\u001b[0m \u001b[0;34m=\u001b[0m \u001b[0mself\u001b[0m\u001b[0;34m.\u001b[0m\u001b[0mtrain_function\u001b[0m\u001b[0;34m(\u001b[0m\u001b[0miterator\u001b[0m\u001b[0;34m)\u001b[0m\u001b[0;34m\u001b[0m\u001b[0;34m\u001b[0m\u001b[0m\n\u001b[0m\u001b[1;32m   1385\u001b[0m               \u001b[0;32mif\u001b[0m \u001b[0mdata_handler\u001b[0m\u001b[0;34m.\u001b[0m\u001b[0mshould_sync\u001b[0m\u001b[0;34m:\u001b[0m\u001b[0;34m\u001b[0m\u001b[0;34m\u001b[0m\u001b[0m\n\u001b[1;32m   1386\u001b[0m                 \u001b[0mcontext\u001b[0m\u001b[0;34m.\u001b[0m\u001b[0masync_wait\u001b[0m\u001b[0;34m(\u001b[0m\u001b[0;34m)\u001b[0m\u001b[0;34m\u001b[0m\u001b[0;34m\u001b[0m\u001b[0m\n",
            "\u001b[0;32m/usr/local/lib/python3.7/dist-packages/tensorflow/python/util/traceback_utils.py\u001b[0m in \u001b[0;36merror_handler\u001b[0;34m(*args, **kwargs)\u001b[0m\n\u001b[1;32m    148\u001b[0m     \u001b[0mfiltered_tb\u001b[0m \u001b[0;34m=\u001b[0m \u001b[0;32mNone\u001b[0m\u001b[0;34m\u001b[0m\u001b[0;34m\u001b[0m\u001b[0m\n\u001b[1;32m    149\u001b[0m     \u001b[0;32mtry\u001b[0m\u001b[0;34m:\u001b[0m\u001b[0;34m\u001b[0m\u001b[0;34m\u001b[0m\u001b[0m\n\u001b[0;32m--> 150\u001b[0;31m       \u001b[0;32mreturn\u001b[0m \u001b[0mfn\u001b[0m\u001b[0;34m(\u001b[0m\u001b[0;34m*\u001b[0m\u001b[0margs\u001b[0m\u001b[0;34m,\u001b[0m \u001b[0;34m**\u001b[0m\u001b[0mkwargs\u001b[0m\u001b[0;34m)\u001b[0m\u001b[0;34m\u001b[0m\u001b[0;34m\u001b[0m\u001b[0m\n\u001b[0m\u001b[1;32m    151\u001b[0m     \u001b[0;32mexcept\u001b[0m \u001b[0mException\u001b[0m \u001b[0;32mas\u001b[0m \u001b[0me\u001b[0m\u001b[0;34m:\u001b[0m\u001b[0;34m\u001b[0m\u001b[0;34m\u001b[0m\u001b[0m\n\u001b[1;32m    152\u001b[0m       \u001b[0mfiltered_tb\u001b[0m \u001b[0;34m=\u001b[0m \u001b[0m_process_traceback_frames\u001b[0m\u001b[0;34m(\u001b[0m\u001b[0me\u001b[0m\u001b[0;34m.\u001b[0m\u001b[0m__traceback__\u001b[0m\u001b[0;34m)\u001b[0m\u001b[0;34m\u001b[0m\u001b[0;34m\u001b[0m\u001b[0m\n",
            "\u001b[0;32m/usr/local/lib/python3.7/dist-packages/tensorflow/python/eager/def_function.py\u001b[0m in \u001b[0;36m__call__\u001b[0;34m(self, *args, **kwds)\u001b[0m\n\u001b[1;32m    913\u001b[0m \u001b[0;34m\u001b[0m\u001b[0m\n\u001b[1;32m    914\u001b[0m       \u001b[0;32mwith\u001b[0m \u001b[0mOptionalXlaContext\u001b[0m\u001b[0;34m(\u001b[0m\u001b[0mself\u001b[0m\u001b[0;34m.\u001b[0m\u001b[0m_jit_compile\u001b[0m\u001b[0;34m)\u001b[0m\u001b[0;34m:\u001b[0m\u001b[0;34m\u001b[0m\u001b[0;34m\u001b[0m\u001b[0m\n\u001b[0;32m--> 915\u001b[0;31m         \u001b[0mresult\u001b[0m \u001b[0;34m=\u001b[0m \u001b[0mself\u001b[0m\u001b[0;34m.\u001b[0m\u001b[0m_call\u001b[0m\u001b[0;34m(\u001b[0m\u001b[0;34m*\u001b[0m\u001b[0margs\u001b[0m\u001b[0;34m,\u001b[0m \u001b[0;34m**\u001b[0m\u001b[0mkwds\u001b[0m\u001b[0;34m)\u001b[0m\u001b[0;34m\u001b[0m\u001b[0;34m\u001b[0m\u001b[0m\n\u001b[0m\u001b[1;32m    916\u001b[0m \u001b[0;34m\u001b[0m\u001b[0m\n\u001b[1;32m    917\u001b[0m       \u001b[0mnew_tracing_count\u001b[0m \u001b[0;34m=\u001b[0m \u001b[0mself\u001b[0m\u001b[0;34m.\u001b[0m\u001b[0mexperimental_get_tracing_count\u001b[0m\u001b[0;34m(\u001b[0m\u001b[0;34m)\u001b[0m\u001b[0;34m\u001b[0m\u001b[0;34m\u001b[0m\u001b[0m\n",
            "\u001b[0;32m/usr/local/lib/python3.7/dist-packages/tensorflow/python/eager/def_function.py\u001b[0m in \u001b[0;36m_call\u001b[0;34m(self, *args, **kwds)\u001b[0m\n\u001b[1;32m    945\u001b[0m       \u001b[0;31m# In this case we have created variables on the first call, so we run the\u001b[0m\u001b[0;34m\u001b[0m\u001b[0;34m\u001b[0m\u001b[0;34m\u001b[0m\u001b[0m\n\u001b[1;32m    946\u001b[0m       \u001b[0;31m# defunned version which is guaranteed to never create variables.\u001b[0m\u001b[0;34m\u001b[0m\u001b[0;34m\u001b[0m\u001b[0;34m\u001b[0m\u001b[0m\n\u001b[0;32m--> 947\u001b[0;31m       \u001b[0;32mreturn\u001b[0m \u001b[0mself\u001b[0m\u001b[0;34m.\u001b[0m\u001b[0m_stateless_fn\u001b[0m\u001b[0;34m(\u001b[0m\u001b[0;34m*\u001b[0m\u001b[0margs\u001b[0m\u001b[0;34m,\u001b[0m \u001b[0;34m**\u001b[0m\u001b[0mkwds\u001b[0m\u001b[0;34m)\u001b[0m  \u001b[0;31m# pylint: disable=not-callable\u001b[0m\u001b[0;34m\u001b[0m\u001b[0;34m\u001b[0m\u001b[0m\n\u001b[0m\u001b[1;32m    948\u001b[0m     \u001b[0;32melif\u001b[0m \u001b[0mself\u001b[0m\u001b[0;34m.\u001b[0m\u001b[0m_stateful_fn\u001b[0m \u001b[0;32mis\u001b[0m \u001b[0;32mnot\u001b[0m \u001b[0;32mNone\u001b[0m\u001b[0;34m:\u001b[0m\u001b[0;34m\u001b[0m\u001b[0;34m\u001b[0m\u001b[0m\n\u001b[1;32m    949\u001b[0m       \u001b[0;31m# Release the lock early so that multiple threads can perform the call\u001b[0m\u001b[0;34m\u001b[0m\u001b[0;34m\u001b[0m\u001b[0;34m\u001b[0m\u001b[0m\n",
            "\u001b[0;32m/usr/local/lib/python3.7/dist-packages/tensorflow/python/eager/function.py\u001b[0m in \u001b[0;36m__call__\u001b[0;34m(self, *args, **kwargs)\u001b[0m\n\u001b[1;32m   2955\u001b[0m        filtered_flat_args) = self._maybe_define_function(args, kwargs)\n\u001b[1;32m   2956\u001b[0m     return graph_function._call_flat(\n\u001b[0;32m-> 2957\u001b[0;31m         filtered_flat_args, captured_inputs=graph_function.captured_inputs)  # pylint: disable=protected-access\n\u001b[0m\u001b[1;32m   2958\u001b[0m \u001b[0;34m\u001b[0m\u001b[0m\n\u001b[1;32m   2959\u001b[0m   \u001b[0;34m@\u001b[0m\u001b[0mproperty\u001b[0m\u001b[0;34m\u001b[0m\u001b[0;34m\u001b[0m\u001b[0m\n",
            "\u001b[0;32m/usr/local/lib/python3.7/dist-packages/tensorflow/python/eager/function.py\u001b[0m in \u001b[0;36m_call_flat\u001b[0;34m(self, args, captured_inputs, cancellation_manager)\u001b[0m\n\u001b[1;32m   1852\u001b[0m       \u001b[0;31m# No tape is watching; skip to running the function.\u001b[0m\u001b[0;34m\u001b[0m\u001b[0;34m\u001b[0m\u001b[0;34m\u001b[0m\u001b[0m\n\u001b[1;32m   1853\u001b[0m       return self._build_call_outputs(self._inference_function.call(\n\u001b[0;32m-> 1854\u001b[0;31m           ctx, args, cancellation_manager=cancellation_manager))\n\u001b[0m\u001b[1;32m   1855\u001b[0m     forward_backward = self._select_forward_and_backward_functions(\n\u001b[1;32m   1856\u001b[0m         \u001b[0margs\u001b[0m\u001b[0;34m,\u001b[0m\u001b[0;34m\u001b[0m\u001b[0;34m\u001b[0m\u001b[0m\n",
            "\u001b[0;32m/usr/local/lib/python3.7/dist-packages/tensorflow/python/eager/function.py\u001b[0m in \u001b[0;36mcall\u001b[0;34m(self, ctx, args, cancellation_manager)\u001b[0m\n\u001b[1;32m    502\u001b[0m               \u001b[0minputs\u001b[0m\u001b[0;34m=\u001b[0m\u001b[0margs\u001b[0m\u001b[0;34m,\u001b[0m\u001b[0;34m\u001b[0m\u001b[0;34m\u001b[0m\u001b[0m\n\u001b[1;32m    503\u001b[0m               \u001b[0mattrs\u001b[0m\u001b[0;34m=\u001b[0m\u001b[0mattrs\u001b[0m\u001b[0;34m,\u001b[0m\u001b[0;34m\u001b[0m\u001b[0;34m\u001b[0m\u001b[0m\n\u001b[0;32m--> 504\u001b[0;31m               ctx=ctx)\n\u001b[0m\u001b[1;32m    505\u001b[0m         \u001b[0;32melse\u001b[0m\u001b[0;34m:\u001b[0m\u001b[0;34m\u001b[0m\u001b[0;34m\u001b[0m\u001b[0m\n\u001b[1;32m    506\u001b[0m           outputs = execute.execute_with_cancellation(\n",
            "\u001b[0;32m/usr/local/lib/python3.7/dist-packages/tensorflow/python/eager/execute.py\u001b[0m in \u001b[0;36mquick_execute\u001b[0;34m(op_name, num_outputs, inputs, attrs, ctx, name)\u001b[0m\n\u001b[1;32m     53\u001b[0m     \u001b[0mctx\u001b[0m\u001b[0;34m.\u001b[0m\u001b[0mensure_initialized\u001b[0m\u001b[0;34m(\u001b[0m\u001b[0;34m)\u001b[0m\u001b[0;34m\u001b[0m\u001b[0;34m\u001b[0m\u001b[0m\n\u001b[1;32m     54\u001b[0m     tensors = pywrap_tfe.TFE_Py_Execute(ctx._handle, device_name, op_name,\n\u001b[0;32m---> 55\u001b[0;31m                                         inputs, attrs, num_outputs)\n\u001b[0m\u001b[1;32m     56\u001b[0m   \u001b[0;32mexcept\u001b[0m \u001b[0mcore\u001b[0m\u001b[0;34m.\u001b[0m\u001b[0m_NotOkStatusException\u001b[0m \u001b[0;32mas\u001b[0m \u001b[0me\u001b[0m\u001b[0;34m:\u001b[0m\u001b[0;34m\u001b[0m\u001b[0;34m\u001b[0m\u001b[0m\n\u001b[1;32m     57\u001b[0m     \u001b[0;32mif\u001b[0m \u001b[0mname\u001b[0m \u001b[0;32mis\u001b[0m \u001b[0;32mnot\u001b[0m \u001b[0;32mNone\u001b[0m\u001b[0;34m:\u001b[0m\u001b[0;34m\u001b[0m\u001b[0;34m\u001b[0m\u001b[0m\n",
            "\u001b[0;31mKeyboardInterrupt\u001b[0m: "
          ]
        }
      ],
      "source": [
        "history = model.fit(train_generator,\n",
        "          steps_per_epoch = len(train_generator),\n",
        "          validation_data = validation_generator,\n",
        "          epochs=20)"
      ]
    },
    {
      "cell_type": "code",
      "execution_count": null,
      "metadata": {
        "colab": {
          "background_save": true
        },
        "id": "ryBV4L_yaeiK",
        "outputId": "5d6b0cd4-1a05-4956-9538-5eeff88d0455"
      },
      "outputs": [
        {
          "name": "stdout",
          "output_type": "stream",
          "text": [
            "Downloading data from https://storage.googleapis.com/keras-applications/efficientnetb0_notop.h5\n",
            "16711680/16705208 [==============================] - 0s 0us/step\n",
            "16719872/16705208 [==============================] - 0s 0us/step\n"
          ]
        }
      ],
      "source": [
        "efficientnet = tf.keras.applications.EfficientNetB0(include_top=False)"
      ]
    },
    {
      "cell_type": "code",
      "execution_count": null,
      "metadata": {
        "id": "Q_UiDTqoZcqY"
      },
      "outputs": [],
      "source": [
        "model_1 = tf.keras.Sequential([\n",
        "    \n",
        "])"
      ]
    }
  ],
  "metadata": {
    "accelerator": "GPU",
    "colab": {
      "collapsed_sections": [
        "JBMGsYNSDaYz",
        "eAVzu9j9F4si"
      ],
      "provenance": []
    },
    "gpuClass": "standard",
    "kernelspec": {
      "display_name": "Python 3",
      "name": "python3"
    },
    "language_info": {
      "name": "python"
    }
  },
  "nbformat": 4,
  "nbformat_minor": 0
}